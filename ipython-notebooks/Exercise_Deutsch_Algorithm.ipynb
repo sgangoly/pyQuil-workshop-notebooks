{
 "cells": [
  {
   "cell_type": "code",
   "execution_count": null,
   "metadata": {},
   "outputs": [],
   "source": [
    "from pyquil import Program, get_qc\n",
    "from pyquil.gates import *\n",
    "import numpy as np"
   ]
  },
  {
   "cell_type": "markdown",
   "metadata": {},
   "source": [
    "A function f:{0, 1} -> {0, 1} may be constant (equal to the same value for both its inputs), or balanced (equal to one value for one of its inputs, and the other value for the other input). The quantum algorithm to determine whether the function is constant/balanced is known as Deutsch's algorithm. We have the following 4 possibilities for this function:<br>\n",
    "<br>\n",
    "(a) f(0) = 0 ; f(1) = 0 <br>\n",
    "(b) f(0) = 1 ; f(1) = 1 <br>\n",
    "(c) f(0) = 0 ; f(1) = 1 <br>\n",
    "(d) f(0) = 1 ; f(1) = 0 <br>\n",
    "<br>\n",
    "The action fo the black-box unitary operator is in general given by <br>\n",
    "<br>\n",
    "$$U_f : \\vert x \\rangle \\vert y \\rangle \\rightarrow \\vert x \\rangle \\vert y \\oplus f(x) \\rangle$$<br>\n",
    "so that the actions of the black-box unitary operator corresponding to each of the above four cases are respectively<br>\n",
    "<br>\n",
    "(a) $U_f : \\vert 0 \\rangle \\vert 0 \\rangle \\rightarrow \\vert 0 \\rangle \\vert 0 \\rangle  \\qquad\\qquad\\qquad\\qquad(b)\\,U_f : \\vert 0 \\rangle \\vert 0 \\rangle \\rightarrow \\vert 0 \\rangle \\vert 1 \\rangle$ <br> \n",
    "$\\quad U_f : \\vert 0 \\rangle \\vert 1 \\rangle \\rightarrow \\vert 0 \\rangle \\vert 1 \\rangle  \\qquad\\qquad\\qquad\\qquad\\quad\\, U_f : \\vert 0 \\rangle \\vert 1 \\rangle \\rightarrow \\vert 0 \\rangle \\vert 0 \\rangle$ <br>\n",
    "$\\quad U_f : \\vert 1 \\rangle \\vert 0 \\rangle \\rightarrow \\vert 1 \\rangle \\vert 0 \\rangle  \\qquad\\qquad\\qquad\\qquad\\quad\\,  U_f : \\vert 1 \\rangle \\vert 0 \\rangle \\rightarrow \\vert 1 \\rangle \\vert 1 \\rangle$ <br>\n",
    "$\\quad U_f : \\vert 1 \\rangle \\vert 1 \\rangle \\rightarrow \\vert 1 \\rangle \\vert 1 \\rangle  \\qquad\\qquad\\qquad\\qquad\\quad\\,  U_f : \\vert 1 \\rangle \\vert 1 \\rangle \\rightarrow \\vert 1 \\rangle \\vert 0 \\rangle$ <br>\n",
    "<br>\n",
    "(c) $U_f : \\vert 0 \\rangle \\vert 0 \\rangle \\rightarrow \\vert 0 \\rangle \\vert 0 \\rangle  \\qquad\\qquad\\qquad\\qquad(d)\\,U_f : \\vert 0 \\rangle \\vert 0 \\rangle \\rightarrow \\vert 0 \\rangle \\vert 1 \\rangle$ <br> \n",
    "$\\quad U_f : \\vert 0 \\rangle \\vert 1 \\rangle \\rightarrow \\vert 0 \\rangle \\vert 1 \\rangle  \\qquad\\qquad\\qquad\\qquad\\quad\\, U_f : \\vert 0 \\rangle \\vert 1 \\rangle \\rightarrow \\vert 0 \\rangle \\vert 0 \\rangle$ <br>\n",
    "$\\quad U_f : \\vert 1 \\rangle \\vert 0 \\rangle \\rightarrow \\vert 1 \\rangle \\vert 1 \\rangle  \\qquad\\qquad\\qquad\\qquad\\quad\\,  U_f : \\vert 1 \\rangle \\vert 0 \\rangle \\rightarrow \\vert 1 \\rangle \\vert 0 \\rangle$ <br>\n",
    "$\\quad U_f : \\vert 1 \\rangle \\vert 1 \\rangle \\rightarrow \\vert 1 \\rangle \\vert 0 \\rangle  \\qquad\\qquad\\qquad\\qquad\\quad\\,  U_f : \\vert 1 \\rangle \\vert 1 \\rangle \\rightarrow \\vert 1 \\rangle \\vert 1 \\rangle$ <br>"
   ]
  },
  {
   "cell_type": "markdown",
   "metadata": {},
   "source": [
    "__Exercise__: Construct the black-box unitary operators for each of the above 4 cases"
   ]
  },
  {
   "cell_type": "code",
   "execution_count": null,
   "metadata": {},
   "outputs": [],
   "source": [
    "def black_box_a():\n",
    "    \"\"\"\n",
    "    :return: array representing the black-box operator of case (a) described above\n",
    "    \"\"\"\n",
    "    return np.array([[1, 0, 0, 0], [0, 1, 0, 0], [0, 0, 1, 0], [0, 0, 0, 1]])"
   ]
  },
  {
   "cell_type": "code",
   "execution_count": null,
   "metadata": {},
   "outputs": [],
   "source": [
    "def black_box_b():\n",
    "    \"\"\"\n",
    "    :return: array representing the black-box operator of case (b) described above\n",
    "    \"\"\"\n",
    "    # TODO"
   ]
  },
  {
   "cell_type": "code",
   "execution_count": null,
   "metadata": {},
   "outputs": [],
   "source": [
    "def black_box_c():\n",
    "    \"\"\"\n",
    "    :return: array representing the black-box operator of case (c) described above\n",
    "    \"\"\"\n",
    "    # TODO"
   ]
  },
  {
   "cell_type": "code",
   "execution_count": null,
   "metadata": {},
   "outputs": [],
   "source": [
    "def black_box_d():\n",
    "    \"\"\"\n",
    "    :return: array representing the black-box operator of case (b) described above\n",
    "    \"\"\"\n",
    "    # TODO"
   ]
  },
  {
   "cell_type": "markdown",
   "metadata": {},
   "source": [
    "__Exercise__: Construct a Propram that will prepare initial state, i.e. the state upto (but excluding) the application of the black-box operator, given by $\\vert \\psi \\rangle_{\\text{init}} = \\frac{1}{\\sqrt{2}} \\left( \\vert 0 \\rangle + \\vert 1 \\rangle \\right) \\otimes \\frac{1}{\\sqrt{2}} \\left( \\vert 0 \\rangle - \\vert 1 \\rangle \\right)$."
   ]
  },
  {
   "cell_type": "code",
   "execution_count": null,
   "metadata": {},
   "outputs": [],
   "source": [
    "def init_state():\n",
    "    \"\"\"\n",
    "    :return: Program programming the initial state, on which the black-box operator will act\n",
    "    \"\"\"\n",
    "    # TODO"
   ]
  },
  {
   "cell_type": "code",
   "execution_count": null,
   "metadata": {},
   "outputs": [],
   "source": [
    "qc = get_qc('9q-generic-qvm')"
   ]
  },
  {
   "cell_type": "markdown",
   "metadata": {},
   "source": [
    "In the case of a balanced function (situations (a) and (b)), a measurement of qubit 1 should always yield 0. In the case of a constant function (situations (c) and (d)), a measurement of qubit 1 should always yield 1. The gates in the circuit appearing after the application of the black-box operator have already been applied for you."
   ]
  },
  {
   "cell_type": "code",
   "execution_count": null,
   "metadata": {},
   "outputs": [],
   "source": [
    "# situation (a)\n",
    "p = init_state()\n",
    "p.defgate(\"U_f_a\", black_box_a())\n",
    "p.inst((\"U_f_a\", 1, 0))\n",
    "p.inst(H(1))\n",
    "resultA = qc.run_and_measure(p, trials=100)[1]\n",
    "del p\n",
    "\n",
    "# situation (b)\n",
    "\n",
    "p = init_state()\n",
    "p.defgate(\"U_f_b\", black_box_b())\n",
    "p.inst((\"U_f_b\", 1, 0))\n",
    "p.inst(H(1))\n",
    "resultB = qc.run_and_measure(p, trials=100)[1]\n",
    "del p\n",
    "\n",
    "# situation (c)\n",
    "\n",
    "p = init_state()\n",
    "p.defgate(\"U_f_c\", black_box_c())\n",
    "p.inst((\"U_f_c\", 1, 0))\n",
    "p.inst(H(1))\n",
    "resultC = qc.run_and_measure(p, trials=100)[1]\n",
    "del p\n",
    "\n",
    "# situation (d)\n",
    "\n",
    "p = init_state()\n",
    "p.defgate(\"U_f_d\", black_box_d())\n",
    "p.inst((\"U_f_d\", 1, 0))\n",
    "p.inst(H(1))\n",
    "resultD = qc.run_and_measure(p, trials=100)[1]\n",
    "del p"
   ]
  },
  {
   "cell_type": "code",
   "execution_count": null,
   "metadata": {},
   "outputs": [],
   "source": [
    "# tests ensuring results are sound\n",
    "np.testing.assert_equal(np.unique(resultA), [0])\n",
    "np.testing.assert_equal(np.unique(resultB), [0])\n",
    "np.testing.assert_equal(np.unique(resultC), [1])\n",
    "np.testing.assert_equal(np.unique(resultD), [1])\n",
    "\n",
    "print(\"Tests have passed!\")"
   ]
  }
 ],
 "metadata": {
  "kernelspec": {
   "display_name": "Python [default]",
   "language": "python",
   "name": "python3"
  },
  "language_info": {
   "codemirror_mode": {
    "name": "ipython",
    "version": 3
   },
   "file_extension": ".py",
   "mimetype": "text/x-python",
   "name": "python",
   "nbconvert_exporter": "python",
   "pygments_lexer": "ipython3",
   "version": "3.6.5"
  }
 },
 "nbformat": 4,
 "nbformat_minor": 2
}
