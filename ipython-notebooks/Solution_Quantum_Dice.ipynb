{
 "cells": [
  {
   "cell_type": "markdown",
   "metadata": {},
   "source": [
    "The aim of this exercise is to produce a 'quantum dice', i.e. a quantum state that, when measured, will produce all possible bit-strings with equal probability."
   ]
  },
  {
   "cell_type": "code",
   "execution_count": 2,
   "metadata": {
    "ExecuteTime": {
     "end_time": "2019-02-26T03:34:15.346355Z",
     "start_time": "2019-02-26T03:34:14.372657Z"
    }
   },
   "outputs": [],
   "source": [
    "%matplotlib inline\n",
    "import matplotlib.pyplot as plt\n",
    "\n",
    "from pyquil import Program, get_qc\n",
    "from pyquil.api import WavefunctionSimulator\n",
    "from pyquil.gates import *\n",
    "\n",
    "import numpy as np\n",
    "import itertools"
   ]
  },
  {
   "cell_type": "code",
   "execution_count": 3,
   "metadata": {
    "ExecuteTime": {
     "end_time": "2019-02-26T03:34:15.355397Z",
     "start_time": "2019-02-26T03:34:15.348027Z"
    }
   },
   "outputs": [],
   "source": [
    "def quantum_dice(n):\n",
    "    '''\n",
    "    :param n: number of qubits\n",
    "    :return: Program preparing quantum dice\n",
    "    '''\n",
    "    p = Program()\n",
    "    for q in range(n):\n",
    "        p += Program(H(q))\n",
    "    return p"
   ]
  },
  {
   "cell_type": "markdown",
   "metadata": {},
   "source": [
    "As an example, we'll pick an 8 sided dice."
   ]
  },
  {
   "cell_type": "code",
   "execution_count": 4,
   "metadata": {
    "ExecuteTime": {
     "end_time": "2019-02-26T03:34:15.362761Z",
     "start_time": "2019-02-26T03:34:15.357606Z"
    }
   },
   "outputs": [],
   "source": [
    "n = 3  # since 2^3 = 8\n",
    "p = quantum_dice(n)"
   ]
  },
  {
   "cell_type": "markdown",
   "metadata": {},
   "source": [
    "Let's use the WavefunctionSimulator to investigate what the wavefunction would look like."
   ]
  },
  {
   "cell_type": "code",
   "execution_count": 5,
   "metadata": {
    "ExecuteTime": {
     "end_time": "2019-02-26T03:34:15.398416Z",
     "start_time": "2019-02-26T03:34:15.365221Z"
    }
   },
   "outputs": [],
   "source": [
    "wfn_sim = WavefunctionSimulator()\n",
    "wfn = wfn_sim.wavefunction(p)\n",
    "outcome_probs = wfn.get_outcome_probs()"
   ]
  },
  {
   "cell_type": "code",
   "execution_count": 6,
   "metadata": {
    "ExecuteTime": {
     "end_time": "2019-02-26T03:34:15.412425Z",
     "start_time": "2019-02-26T03:34:15.402709Z"
    }
   },
   "outputs": [
    {
     "name": "stdout",
     "output_type": "stream",
     "text": [
      "Quantum Dice implementation correct!\n"
     ]
    }
   ],
   "source": [
    "# testing for correctness of program\n",
    "np.testing.assert_allclose(list(outcome_probs.values()), np.tile(1/(2**n), 2**n))\n",
    "print(\"Quantum Dice implementation correct!\")"
   ]
  },
  {
   "cell_type": "code",
   "execution_count": 7,
   "metadata": {
    "ExecuteTime": {
     "end_time": "2019-02-26T03:34:15.668848Z",
     "start_time": "2019-02-26T03:34:15.415251Z"
    }
   },
   "outputs": [
    {
     "data": {
      "image/png": "[encoded data removed]",
      "text/plain": [
       "<Figure size 576x432 with 1 Axes>"
      ]
     },
     "metadata": {},
     "output_type": "display_data"
    }
   ],
   "source": [
    "# Plotting probabilities according to the resultant wavefunction\n",
    "plt.figure(figsize=(8, 6))\n",
    "plt.bar(outcome_probs.keys(), outcome_probs.values())\n",
    "plt.show()"
   ]
  },
  {
   "cell_type": "markdown",
   "metadata": {},
   "source": [
    "We can also run against a (simulated) Quantum Computer to measure out the state many times, and plot the resulting values."
   ]
  },
  {
   "cell_type": "code",
   "execution_count": 8,
   "metadata": {
    "ExecuteTime": {
     "end_time": "2019-02-26T03:34:15.677398Z",
     "start_time": "2019-02-26T03:34:15.671175Z"
    }
   },
   "outputs": [],
   "source": [
    "# specify the number of trials/shots\n",
    "n_shots = 1000"
   ]
  },
  {
   "cell_type": "code",
   "execution_count": 9,
   "metadata": {
    "ExecuteTime": {
     "end_time": "2019-02-26T03:34:16.075710Z",
     "start_time": "2019-02-26T03:34:15.679962Z"
    },
    "scrolled": true
   },
   "outputs": [],
   "source": [
    "qc = get_qc('9q-generic-qvm')\n",
    "results = qc.run_and_measure(p, trials=n_shots)\n",
    "results_stack = np.column_stack(tuple([results[i] for i in range(n)]))"
   ]
  },
  {
   "cell_type": "code",
   "execution_count": 10,
   "metadata": {
    "ExecuteTime": {
     "end_time": "2019-02-26T03:34:16.387969Z",
     "start_time": "2019-02-26T03:34:16.081132Z"
    }
   },
   "outputs": [
    {
     "data": {
      "image/png": "[encoded data removed]",
      "text/plain": [
       "<Figure size 576x432 with 1 Axes>"
      ]
     },
     "metadata": {},
     "output_type": "display_data"
    }
   ],
   "source": [
    "# plot frequency bars\n",
    "d_counts = {''.join(q): np.sum(np.all(results_stack == np.array([int(s) for s in q]), axis=-1))\n",
    "            for q in itertools.product(['0', '1'], repeat=n)}\n",
    "\n",
    "plt.figure(figsize=(8, 6))\n",
    "plt.bar(d_counts.keys(), d_counts.values())\n",
    "plt.show()"
   ]
  }
 ],
 "metadata": {
  "kernelspec": {
   "display_name": "Python 3",
   "language": "python",
   "name": "python3"
  },
  "language_info": {
   "codemirror_mode": {
    "name": "ipython",
    "version": 3
   },
   "file_extension": ".py",
   "mimetype": "text/x-python",
   "name": "python",
   "nbconvert_exporter": "python",
   "pygments_lexer": "ipython3",
   "version": "3.6.8"
  },
  "toc": {
   "nav_menu": {},
   "number_sections": true,
   "sideBar": true,
   "skip_h1_title": false,
   "title_cell": "Table of Contents",
   "title_sidebar": "Contents",
   "toc_cell": false,
   "toc_position": {},
   "toc_section_display": true,
   "toc_window_display": false
  },
  "varInspector": {
   "cols": {
    "lenName": 16,
    "lenType": 16,
    "lenVar": 40
   },
   "kernels_config": {
    "python": {
     "delete_cmd_postfix": "",
     "delete_cmd_prefix": "del ",
     "library": "var_list.py",
     "varRefreshCmd": "print(var_dic_list())"
    },
    "r": {
     "delete_cmd_postfix": ") ",
     "delete_cmd_prefix": "rm(",
     "library": "var_list.r",
     "varRefreshCmd": "cat(var_dic_list()) "
    }
   },
   "types_to_exclude": [
    "module",
    "function",
    "builtin_function_or_method",
    "instance",
    "_Feature"
   ],
   "window_display": false
  }
 },
 "nbformat": 4,
 "nbformat_minor": 2
}
