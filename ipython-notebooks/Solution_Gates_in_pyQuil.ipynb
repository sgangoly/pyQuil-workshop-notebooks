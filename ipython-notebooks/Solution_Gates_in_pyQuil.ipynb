{
 "cells": [
  {
   "cell_type": "code",
   "execution_count": 1,
   "metadata": {
    "ExecuteTime": {
     "end_time": "2019-03-12T19:53:58.605361Z",
     "start_time": "2019-03-12T19:53:58.600015Z"
    }
   },
   "outputs": [],
   "source": [
    "import sys\n",
    "sys.path = ['', '/Users/amy/Repositories/amy/amy/pyQuil_workshop/pyQuil_workshop_notebooks', '/Users/amy/Repositories/amy', '/Users/amy/miniconda3/envs/grove-pyQuil2.0/lib/python36.zip', '/Users/amy/miniconda3/envs/grove-pyQuil2.0/lib/python3.6', '/Users/amy/miniconda3/envs/grove-pyQuil2.0/lib/python3.6/lib-dynload', '/Users/amy/.local/lib/python3.6/site-packages', '/Users/amy/miniconda3/envs/grove-pyQuil2.0/lib/python3.6/site-packages']"
   ]
  },
  {
   "cell_type": "markdown",
   "metadata": {},
   "source": [
    "Everything in this notebook is taken from the [Introduction to Quantum Computing](https://pyquil.readthedocs.io/en/stable/intro.html#some-code) section of the pyQuil documentation. Refer there if you need help getting through these exercises. "
   ]
  },
  {
   "cell_type": "code",
   "execution_count": 2,
   "metadata": {
    "ExecuteTime": {
     "end_time": "2019-03-12T19:53:59.686267Z",
     "start_time": "2019-03-12T19:53:58.615771Z"
    }
   },
   "outputs": [],
   "source": [
    "# Imports for pyQuil\n",
    "import numpy as np\n",
    "from pyquil import Program, get_qc\n",
    "from pyquil.api import WavefunctionSimulator\n",
    "from pyquil.gates import H, I, X, Y, Z, CNOT, MEASURE"
   ]
  },
  {
   "cell_type": "markdown",
   "metadata": {},
   "source": [
    "# Single Qubit Operations"
   ]
  },
  {
   "cell_type": "markdown",
   "metadata": {},
   "source": [
    "Let's try applying an identity gate, which we know should do nothing. "
   ]
  },
  {
   "cell_type": "code",
   "execution_count": 3,
   "metadata": {
    "ExecuteTime": {
     "end_time": "2019-03-12T19:53:59.854849Z",
     "start_time": "2019-03-12T19:53:59.687881Z"
    }
   },
   "outputs": [
    {
     "name": "stdout",
     "output_type": "stream",
     "text": [
      "Our qubit is in the state alpha=(1+0j) and beta=0j\n",
      "The probability of measuring the qubit in outcome 0 is 1.0\n",
      "The probability of measuring the qubit in outcome 1 is 0.0\n"
     ]
    }
   ],
   "source": [
    "# create a WavefunctionSimulator object and a generic QuantumComputer object\n",
    "wavefunction_simulator = WavefunctionSimulator()\n",
    "qc = get_qc('9q-generic-qvm')\n",
    "\n",
    "# pyQuil is based around operations (or gates) so we will start with the most\n",
    "# basic one: the identity operation, called I. I takes one argument, the index\n",
    "# of the qubit that it should be applied to.\n",
    "# Make a quantum program that allocates one qubit (qubit #0) and does nothing to it\n",
    "p = Program(I(0))\n",
    "\n",
    "# Quantum states are called wavefunctions for historical reasons.\n",
    "# We can run this basic program on our connection to the simulator.\n",
    "# This call will return the state of our qubits after we run program p.\n",
    "# This api call returns a tuple, but we'll ignore the second value for now.\n",
    "wavefunction = wavefunction_simulator.wavefunction(p)\n",
    "\n",
    "# wavefunction is a Wavefunction object that stores a quantum state as a list of amplitudes\n",
    "alpha, beta = wavefunction\n",
    "\n",
    "print(\"Our qubit is in the state alpha={} and beta={}\".format(alpha, beta))\n",
    "print(\"The probability of measuring the qubit in outcome 0 is {}\".format(abs(alpha)**2))\n",
    "print(\"The probability of measuring the qubit in outcome 1 is {}\".format(abs(beta)**2))"
   ]
  },
  {
   "cell_type": "markdown",
   "metadata": {},
   "source": [
    "With `run_and_measure`, we can supply a program and a number of trials, and we get back a dictionary of results across all qubits in the `QuantumComputer` object `qc`. "
   ]
  },
  {
   "cell_type": "code",
   "execution_count": 4,
   "metadata": {
    "ExecuteTime": {
     "end_time": "2019-03-12T19:54:00.053818Z",
     "start_time": "2019-03-12T19:53:59.858006Z"
    }
   },
   "outputs": [
    {
     "name": "stdout",
     "output_type": "stream",
     "text": [
      "[0 0 0 0 0 0 0 0 0 0]\n"
     ]
    }
   ],
   "source": [
    "p = Program(I(0))\n",
    "results = qc.run_and_measure(p, trials=10)[0]\n",
    "\n",
    "print(results)"
   ]
  },
  {
   "cell_type": "markdown",
   "metadata": {},
   "source": [
    "The identity gate reads out uniformly in the ground state, as we expected. Now compare the action of the identity gate to the bit-flip or NOT gate, `X`. "
   ]
  },
  {
   "cell_type": "code",
   "execution_count": 5,
   "metadata": {
    "ExecuteTime": {
     "end_time": "2019-03-12T19:54:00.066778Z",
     "start_time": "2019-03-12T19:54:00.057299Z"
    }
   },
   "outputs": [
    {
     "name": "stdout",
     "output_type": "stream",
     "text": [
      "Our qubit is in the state alpha=0j and beta=(1+0j)\n",
      "The probability of measuring the qubit in outcome 0 is 0.0\n",
      "The probability of measuring the qubit in outcome 1 is 1.0\n"
     ]
    }
   ],
   "source": [
    "p = Program(X(0))\n",
    "\n",
    "wavefunc = wavefunction_simulator.wavefunction(p)\n",
    "alpha, beta = wavefunc\n",
    "\n",
    "print(\"Our qubit is in the state alpha={} and beta={}\".format(alpha, beta))\n",
    "print(\"The probability of measuring the qubit in outcome 0 is {}\".format(abs(alpha)**2))\n",
    "print(\"The probability of measuring the qubit in outcome 1 is {}\".format(abs(beta)**2))"
   ]
  },
  {
   "cell_type": "code",
   "execution_count": 6,
   "metadata": {
    "ExecuteTime": {
     "end_time": "2019-03-12T19:54:00.110092Z",
     "start_time": "2019-03-12T19:54:00.068449Z"
    },
    "scrolled": true
   },
   "outputs": [
    {
     "name": "stdout",
     "output_type": "stream",
     "text": [
      "[1 1 1 1 1 1 1 1 1 1]\n"
     ]
    }
   ],
   "source": [
    "p = Program(X(0))\n",
    "results = qc.run_and_measure(p, trials=10)[0]\n",
    "\n",
    "print(results)"
   ]
  },
  {
   "cell_type": "code",
   "execution_count": 29,
   "metadata": {
    "ExecuteTime": {
     "end_time": "2019-03-12T19:58:22.507675Z",
     "start_time": "2019-03-12T19:58:22.371881Z"
    },
    "scrolled": true
   },
   "outputs": [
    {
     "name": "stdout",
     "output_type": "stream",
     "text": [
      "{0: array([1, 1, 1, 1, 1, 1, 1, 1, 1, 1]), 1: array([0, 0, 0, 0, 0, 0, 0, 0, 0, 0]), 2: array([0, 0, 0, 0, 0, 0, 0, 0, 0, 0]), 3: array([0, 0, 0, 0, 0, 0, 0, 0, 0, 0]), 4: array([0, 0, 0, 0, 0, 0, 0, 0, 0, 0]), 5: array([0, 0, 0, 0, 0, 0, 0, 0, 0, 0]), 6: array([0, 0, 0, 0, 0, 0, 0, 0, 0, 0]), 7: array([0, 0, 0, 0, 0, 0, 0, 0, 0, 0]), 10: array([0, 0, 0, 0, 0, 0, 0, 0, 0, 0]), 11: array([0, 0, 0, 0, 0, 0, 0, 0, 0, 0]), 12: array([0, 0, 0, 0, 0, 0, 0, 0, 0, 0]), 13: array([0, 0, 0, 0, 0, 0, 0, 0, 0, 0]), 14: array([0, 0, 0, 0, 0, 0, 0, 0, 0, 0]), 15: array([0, 0, 0, 0, 0, 0, 0, 0, 0, 0]), 16: array([0, 0, 0, 0, 0, 0, 0, 0, 0, 0]), 17: array([0, 0, 0, 0, 0, 0, 0, 0, 0, 0])}\n"
     ]
    }
   ],
   "source": [
    "p = Program(X(0))\n",
    "results = qc.run_and_measure(p, trials=10)\n",
    "\n",
    "print(results)"
   ]
  },
  {
   "cell_type": "markdown",
   "metadata": {},
   "source": [
    "We can see that applying the X gate brings the qubit to the excited state, and so we repeatedly read out `1`s. We can apply it again to make sure that the `X` gate acting on the excited state brings us back to the ground state. "
   ]
  },
  {
   "cell_type": "code",
   "execution_count": 7,
   "metadata": {
    "ExecuteTime": {
     "end_time": "2019-03-12T19:54:00.167253Z",
     "start_time": "2019-03-12T19:54:00.112766Z"
    }
   },
   "outputs": [
    {
     "name": "stdout",
     "output_type": "stream",
     "text": [
      "[0 0 0 0 0 0 0 0 0 0]\n"
     ]
    }
   ],
   "source": [
    "p = Program(X(0), X(0))\n",
    "results = qc.run_and_measure(p, trials=10)[0]\n",
    "\n",
    "print(results)"
   ]
  },
  {
   "cell_type": "markdown",
   "metadata": {},
   "source": [
    "The wavefunction outcome probabilities are stored in a dictionary"
   ]
  },
  {
   "cell_type": "code",
   "execution_count": 8,
   "metadata": {
    "ExecuteTime": {
     "end_time": "2019-03-12T19:54:00.182176Z",
     "start_time": "2019-03-12T19:54:00.169577Z"
    }
   },
   "outputs": [
    {
     "name": "stdout",
     "output_type": "stream",
     "text": [
      "{'00': 1.0, '01': 0.0, '10': 0.0, '11': 0.0}\n"
     ]
    }
   ],
   "source": [
    "# wavefunction(Program) returns a coefficient array that corresponds to outcomes in the following order\n",
    "wavefunction = wavefunction_simulator.wavefunction(Program(I(0), I(1)))\n",
    "print(wavefunction.get_outcome_probs())"
   ]
  },
  {
   "cell_type": "markdown",
   "metadata": {},
   "source": [
    "Now we can look at the action of all the Pauli operators."
   ]
  },
  {
   "cell_type": "code",
   "execution_count": 9,
   "metadata": {
    "ExecuteTime": {
     "end_time": "2019-03-12T19:54:00.217642Z",
     "start_time": "2019-03-12T19:54:00.184889Z"
    }
   },
   "outputs": [
    {
     "name": "stdout",
     "output_type": "stream",
     "text": [
      "X|0> =  (1+0j)|1>\n",
      "The outcome probabilities are {'0': 0.0, '1': 1.0}\n",
      "This looks like a bit flip.\n",
      "\n",
      "Y|0> =  1j|1>\n",
      "The outcome probabilities are {'0': 0.0, '1': 1.0}\n",
      "This also looks like a bit flip.\n",
      "\n",
      "Z|0> =  (1+0j)|0>\n",
      "The outcome probabilities are {'0': 1.0, '1': 0.0}\n",
      "This state looks unchanged.\n"
     ]
    }
   ],
   "source": [
    "from pyquil.gates import X, Y, Z\n",
    "\n",
    "p = Program(X(0))\n",
    "wavefunction = wavefunction_simulator.wavefunction(p)\n",
    "print(\"X|0> = \", wavefunction)\n",
    "print(\"The outcome probabilities are\", wavefunction.get_outcome_probs())\n",
    "print(\"This looks like a bit flip.\\n\")\n",
    "\n",
    "p = Program(Y(0))\n",
    "wavefunction = wavefunction_simulator.wavefunction(p)\n",
    "print(\"Y|0> = \", wavefunction)\n",
    "print(\"The outcome probabilities are\", wavefunction.get_outcome_probs())\n",
    "print(\"This also looks like a bit flip.\\n\")\n",
    "\n",
    "p = Program(Z(0))\n",
    "wavefunction = wavefunction_simulator.wavefunction(p)\n",
    "print(\"Z|0> = \", wavefunction)\n",
    "print(\"The outcome probabilities are\", wavefunction.get_outcome_probs())\n",
    "print(\"This state looks unchanged.\")"
   ]
  },
  {
   "cell_type": "markdown",
   "metadata": {},
   "source": [
    "What happened with the `Z` gate? To elucidate the action let's try performing a `Z` gate on a qubit in the excited state rather than the ground state, which we just tried. "
   ]
  },
  {
   "cell_type": "code",
   "execution_count": 10,
   "metadata": {
    "ExecuteTime": {
     "end_time": "2019-03-12T19:54:00.238105Z",
     "start_time": "2019-03-12T19:54:00.220172Z"
    }
   },
   "outputs": [
    {
     "name": "stdout",
     "output_type": "stream",
     "text": [
      "Z|0> =  (-1+0j)|1>\n",
      "The outcome probabilities are {'0': 0.0, '1': 1.0}\n"
     ]
    }
   ],
   "source": [
    "p = Program(X(0), Z(0))\n",
    "wavefunction = wavefunction_simulator.wavefunction(p)\n",
    "print(\"Z|0> = \", wavefunction)\n",
    "print(\"The outcome probabilities are\", wavefunction.get_outcome_probs())"
   ]
  },
  {
   "cell_type": "markdown",
   "metadata": {},
   "source": [
    "Now, we can see that `Z` maps the excited state to itself with an additional $\\pi$ phase. Let's try to compose some gate operations on the same qubit. "
   ]
  },
  {
   "cell_type": "code",
   "execution_count": 11,
   "metadata": {
    "ExecuteTime": {
     "end_time": "2019-03-12T19:54:00.250063Z",
     "start_time": "2019-03-12T19:54:00.240026Z"
    }
   },
   "outputs": [
    {
     "name": "stdout",
     "output_type": "stream",
     "text": [
      "ZYX|0> =  -1j|0>\n",
      "With outcome probabilities\n",
      " {'0': 1.0, '1': 0.0}\n"
     ]
    }
   ],
   "source": [
    "# Composing qubit operations is the same as multiplying matrices sequentially\n",
    "p = Program(X(0), Y(0), Z(0))\n",
    "wavefunction = wavefunction_simulator.wavefunction(p)\n",
    "\n",
    "print(\"ZYX|0> = \", wavefunction)\n",
    "print(\"With outcome probabilities\\n\", wavefunction.get_outcome_probs())"
   ]
  },
  {
   "cell_type": "markdown",
   "metadata": {},
   "source": [
    "The Hadamard gate isn't a Pauli gate, although it is composed of two of them, i.e."
   ]
  },
  {
   "cell_type": "code",
   "execution_count": 12,
   "metadata": {
    "ExecuteTime": {
     "end_time": "2019-03-12T19:54:00.262908Z",
     "start_time": "2019-03-12T19:54:00.251712Z"
    }
   },
   "outputs": [
    {
     "name": "stdout",
     "output_type": "stream",
     "text": [
      "H|0> =  (0.7071067812+0j)|0> + (0.7071067812+0j)|1>\n",
      "With outcome probabilities\n",
      " {'0': 0.4999999999999999, '1': 0.4999999999999999}\n"
     ]
    }
   ],
   "source": [
    "from pyquil.gates import H\n",
    "\n",
    "had_program = Program(H(0))\n",
    "wavefunction = wavefunction_simulator.wavefunction(had_program)\n",
    "\n",
    "print(\"H|0> = \", wavefunction)\n",
    "print(\"With outcome probabilities\\n\", wavefunction.get_outcome_probs())"
   ]
  },
  {
   "cell_type": "markdown",
   "metadata": {},
   "source": [
    "Notice that the Hadamard maps $\\left|0\\right>$ to $\\left|+\\right>=\\frac{\\left|0\\right>+\\left|1\\right>}{2}$ and $\\left|+\\right>$ back to $\\left|0\\right>$, so it undoes itself if applied twice. In fact, the Hadamard operator does this regardless of the starting state, so we say $\\hat{H}^2=\\hat{I}$, and we call such an operator that undoes itself if applied twice _idempotent_. "
   ]
  },
  {
   "cell_type": "code",
   "execution_count": 13,
   "metadata": {
    "ExecuteTime": {
     "end_time": "2019-03-12T19:54:00.276726Z",
     "start_time": "2019-03-12T19:54:00.265294Z"
    }
   },
   "outputs": [
    {
     "name": "stdout",
     "output_type": "stream",
     "text": [
      "HH|0> =  (1+0j)|0>\n",
      "With outcome probabilities\n",
      " {'0': 0.9999999999999996, '1': 0.0}\n"
     ]
    }
   ],
   "source": [
    "from pyquil.gates import H\n",
    "\n",
    "had_program = Program(H(0), H(0))\n",
    "wavefunction = wavefunction_simulator.wavefunction(had_program)\n",
    "\n",
    "print(\"HH|0> = \", wavefunction)\n",
    "print(\"With outcome probabilities\\n\", wavefunction.get_outcome_probs())"
   ]
  },
  {
   "cell_type": "code",
   "execution_count": 14,
   "metadata": {
    "ExecuteTime": {
     "end_time": "2019-03-12T19:54:00.342570Z",
     "start_time": "2019-03-12T19:54:00.281132Z"
    }
   },
   "outputs": [
    {
     "name": "stdout",
     "output_type": "stream",
     "text": [
      "[0 0 1 1 1 1 1 0 0 1]\n"
     ]
    }
   ],
   "source": [
    "p = Program(H(0))\n",
    "results = qc.run_and_measure(p, trials=10)[0]\n",
    "\n",
    "print(results)"
   ]
  },
  {
   "cell_type": "code",
   "execution_count": 15,
   "metadata": {
    "ExecuteTime": {
     "end_time": "2019-03-12T19:54:00.405275Z",
     "start_time": "2019-03-12T19:54:00.347708Z"
    }
   },
   "outputs": [
    {
     "name": "stdout",
     "output_type": "stream",
     "text": [
      "[0 0 1 1 0 0 1 1 0 0]\n"
     ]
    }
   ],
   "source": [
    "p = Program(X(0), H(0))\n",
    "results = qc.run_and_measure(p, trials=10)[0]\n",
    "\n",
    "print(results)"
   ]
  },
  {
   "cell_type": "markdown",
   "metadata": {},
   "source": [
    "# Multi-Qubit Operations"
   ]
  },
  {
   "cell_type": "markdown",
   "metadata": {},
   "source": [
    "We can just as easily work with more than one qubit"
   ]
  },
  {
   "cell_type": "code",
   "execution_count": 16,
   "metadata": {
    "ExecuteTime": {
     "end_time": "2019-03-12T19:54:00.432212Z",
     "start_time": "2019-03-12T19:54:00.407840Z"
    }
   },
   "outputs": [
    {
     "name": "stdout",
     "output_type": "stream",
     "text": [
      "The quantum state is of dimension: 4\n",
      "The quantum state is of dimension: 16\n",
      "The quantum state is of dimension: 1024\n"
     ]
    }
   ],
   "source": [
    "# Multiple qubits also produce the expected scaling of the state.\n",
    "p = Program(I(0), I(1))\n",
    "wavefunction = wavefunction_simulator.wavefunction(p)\n",
    "print(\"The quantum state is of dimension:\", len(wavefunction.amplitudes))\n",
    "\n",
    "p = Program(I(0), I(1), I(2), I(3))\n",
    "wavefunction = wavefunction_simulator.wavefunction(p)\n",
    "print(\"The quantum state is of dimension:\", len(wavefunction.amplitudes))\n",
    "\n",
    "p = Program()\n",
    "for x in range(10):\n",
    "    p += I(x)\n",
    "wavefunction = wavefunction_simulator.wavefunction(p)\n",
    "print(\"The quantum state is of dimension:\", len(wavefunction.amplitudes))"
   ]
  },
  {
   "cell_type": "code",
   "execution_count": 17,
   "metadata": {
    "ExecuteTime": {
     "end_time": "2019-03-12T19:54:00.487684Z",
     "start_time": "2019-03-12T19:54:00.434202Z"
    }
   },
   "outputs": [
    {
     "name": "stdout",
     "output_type": "stream",
     "text": [
      "{0: array([0, 0, 0, 0, 0, 0, 0, 0, 0, 0]), 1: array([0, 0, 0, 0, 0, 0, 0, 0, 0, 0]), 2: array([0, 0, 0, 0, 0, 0, 0, 0, 0, 0]), 3: array([0, 0, 0, 0, 0, 0, 0, 0, 0, 0]), 4: array([0, 0, 0, 0, 0, 0, 0, 0, 0, 0]), 5: array([0, 0, 0, 0, 0, 0, 0, 0, 0, 0]), 6: array([0, 0, 0, 0, 0, 0, 0, 0, 0, 0]), 7: array([0, 0, 0, 0, 0, 0, 0, 0, 0, 0]), 8: array([0, 0, 0, 0, 0, 0, 0, 0, 0, 0])}\n"
     ]
    }
   ],
   "source": [
    "p = Program(I(0), I(1))\n",
    "results = qc.run_and_measure(p, trials=10)\n",
    "\n",
    "print(results)"
   ]
  },
  {
   "cell_type": "markdown",
   "metadata": {},
   "source": [
    "Here for the first time we use `run` on a compiled executable rather than `run_and_measure`. We've also declared explicit classical memory regions so that we only read out on the qubits we're interested in. "
   ]
  },
  {
   "cell_type": "code",
   "execution_count": 18,
   "metadata": {
    "ExecuteTime": {
     "end_time": "2019-03-12T19:54:00.534607Z",
     "start_time": "2019-03-12T19:54:00.493519Z"
    }
   },
   "outputs": [
    {
     "name": "stdout",
     "output_type": "stream",
     "text": [
      "DECLARE ro BIT[2]\n",
      "H 0\n",
      "X 1\n",
      "MEASURE 0 ro[0]\n",
      "MEASURE 1 ro[1]\n",
      "\n",
      "[[0 1]\n",
      " [1 1]\n",
      " [1 1]\n",
      " [1 1]\n",
      " [1 1]\n",
      " [0 1]\n",
      " [1 1]\n",
      " [1 1]\n",
      " [1 1]\n",
      " [1 1]]\n"
     ]
    }
   ],
   "source": [
    "p = Program()\n",
    "# Declare two bits of classical memory\n",
    "classical_memory = p.declare('ro', 'BIT', 2)\n",
    "\n",
    "p.inst(H(0), X(1))\n",
    "\n",
    "# Measure out on qubit 0 and record the results in the 0th index of classical_memory\n",
    "p.inst(MEASURE(0, classical_memory[0]), MEASURE(1, classical_memory[1]))\n",
    "\n",
    "# Print out the Quil code for this Program\n",
    "print(p)\n",
    "\n",
    "# Measure the qubits specified by classical_register (qubits 0 and 1) a number of times\n",
    "p.wrap_in_numshots_loop(shots=10)\n",
    "# Compile and run the Program\n",
    "results = qc.run(qc.compile(p))\n",
    "\n",
    "print(results)"
   ]
  },
  {
   "cell_type": "code",
   "execution_count": 19,
   "metadata": {
    "ExecuteTime": {
     "end_time": "2019-03-12T19:54:00.573540Z",
     "start_time": "2019-03-12T19:54:00.541275Z"
    }
   },
   "outputs": [
    {
     "name": "stdout",
     "output_type": "stream",
     "text": [
      "DECLARE ro BIT[2]\n",
      "H 0\n",
      "X 1\n",
      "MEASURE 0 ro[1]\n",
      "MEASURE 1 ro[0]\n",
      "\n",
      "[[1 0]\n",
      " [1 0]\n",
      " [1 1]\n",
      " [1 0]\n",
      " [1 0]\n",
      " [1 0]\n",
      " [1 1]\n",
      " [1 1]\n",
      " [1 1]\n",
      " [1 0]]\n"
     ]
    }
   ],
   "source": [
    "p = Program()\n",
    "# Declare two bits of classical memory\n",
    "classical_memory = p.declare('ro', 'BIT', 2)\n",
    "\n",
    "p.inst(H(0), X(1))\n",
    "\n",
    "# Measure out on qubit 0 and record the results in the 0th index of classical_memory\n",
    "p.inst(MEASURE(0, classical_memory[1]), MEASURE(1, classical_memory[0]))\n",
    "\n",
    "# Print out the Quil code for this Program\n",
    "print(p)\n",
    "\n",
    "# Measure the qubits specified by classical_register (qubits 0 and 1) a number of times\n",
    "p.wrap_in_numshots_loop(shots=10)\n",
    "# Compile and run the Program\n",
    "results = qc.run(qc.compile(p))\n",
    "\n",
    "print(results)"
   ]
  },
  {
   "cell_type": "code",
   "execution_count": 20,
   "metadata": {
    "ExecuteTime": {
     "end_time": "2019-03-12T19:54:00.616577Z",
     "start_time": "2019-03-12T19:54:00.576619Z"
    }
   },
   "outputs": [
    {
     "name": "stdout",
     "output_type": "stream",
     "text": [
      "[[1 0]\n",
      " [1 0]\n",
      " [1 0]\n",
      " [1 0]\n",
      " [1 0]\n",
      " [0 0]\n",
      " [0 0]\n",
      " [1 0]\n",
      " [1 0]\n",
      " [0 0]]\n"
     ]
    }
   ],
   "source": [
    "p = Program()\n",
    "# Declare two bits of classical memory\n",
    "ro = p.declare('ro', 'BIT', 2)\n",
    "\n",
    "p += Program(H(0), X(1), Z(0), Y(1), MEASURE(0, ro[0]), MEASURE(1, ro[1]))\n",
    "\n",
    "# Measure the qubits specified by classical_register (qubits 0 and 1) a number of times\n",
    "p.wrap_in_numshots_loop(shots=10)\n",
    "# Compile and run the Program\n",
    "results = qc.run(qc.compile(p))\n",
    "\n",
    "print(results)"
   ]
  },
  {
   "cell_type": "markdown",
   "metadata": {},
   "source": [
    "Now that we've taken a look at single-qubit operators, let's consider a two-qubit entangling operation, `CNOT`. There are four basis states in the two-qubit space, $\\{\\left|00\\right>,\\left|01\\right>,\\left|10\\right>,\\left|11\\right>\\}$\n",
    "so we'll inspect how `CNOT` acts on each of them. "
   ]
  },
  {
   "cell_type": "code",
   "execution_count": 35,
   "metadata": {
    "ExecuteTime": {
     "end_time": "2019-03-12T20:28:32.135851Z",
     "start_time": "2019-03-12T20:28:32.093180Z"
    }
   },
   "outputs": [
    {
     "name": "stdout",
     "output_type": "stream",
     "text": [
      "CNOT|00> =  (1+0j)|00>\n",
      "With outcome probabilities\n",
      " {'00': 1.0, '01': 0.0, '10': 0.0, '11': 0.0} \n",
      "\n",
      "CNOT|01> =  (1+0j)|11>\n",
      "With outcome probabilities\n",
      " {'00': 0.0, '01': 0.0, '10': 0.0, '11': 1.0} \n",
      "\n",
      "CNOT|10> =  (1+0j)|10>\n",
      "With outcome probabilities\n",
      " {'00': 0.0, '01': 0.0, '10': 1.0, '11': 0.0} \n",
      "\n",
      "CNOT|11> =  (1+0j)|01>\n",
      "With outcome probabilities\n",
      " {'00': 0.0, '01': 1.0, '10': 0.0, '11': 0.0} \n",
      "\n"
     ]
    }
   ],
   "source": [
    "from pyquil.gates import CNOT\n",
    "\n",
    "\n",
    "p = Program(CNOT(0, 1))\n",
    "wavefunction = wavefunction_simulator.wavefunction(p)\n",
    "print(\"CNOT|00> = \", wavefunction)\n",
    "print(\"With outcome probabilities\\n\", wavefunction.get_outcome_probs(), \"\\n\")\n",
    "\n",
    "p = Program(X(0), CNOT(0, 1))\n",
    "wavefunction = wavefunction_simulator.wavefunction(p)\n",
    "print(\"CNOT|01> = \", wavefunction)\n",
    "print(\"With outcome probabilities\\n\", wavefunction.get_outcome_probs(), \"\\n\")\n",
    "\n",
    "p = Program(X(1), CNOT(0, 1))\n",
    "wavefunction = wavefunction_simulator.wavefunction(p)\n",
    "print(\"CNOT|10> = \", wavefunction)\n",
    "print(\"With outcome probabilities\\n\", wavefunction.get_outcome_probs(), \"\\n\")\n",
    "\n",
    "p = Program(X(0), X(1), CNOT(0, 1))\n",
    "wavefunction = wavefunction_simulator.wavefunction(p)\n",
    "print(\"CNOT|11> = \", wavefunction)\n",
    "print(\"With outcome probabilities\\n\", wavefunction.get_outcome_probs(), \"\\n\")"
   ]
  },
  {
   "cell_type": "code",
   "execution_count": 39,
   "metadata": {
    "ExecuteTime": {
     "end_time": "2019-03-12T20:29:07.950700Z",
     "start_time": "2019-03-12T20:29:07.941380Z"
    }
   },
   "outputs": [
    {
     "data": {
      "text/plain": [
       "'\\\\documentclass[convert={density=300,outext=.png}]{standalone}\\n\\\\usepackage[margin=1in]{geometry}\\n\\\\usepackage[hang,small,bf]{caption}\\n\\\\usepackage{tikz}\\n\\\\usepackage{braket}\\n\\\\usetikzlibrary{backgrounds,shadows.blur,fit,decorations.pathreplacing,shapes}\\n\\\\begin{document}\\n\\\\begin{tikzpicture}[scale=0.8, transform shape]\\n\\\\tikzstyle{basicshadow}=[blur shadow={shadow blur steps=8, shadow xshift=0.7pt, shadow yshift=-0.7pt, shadow scale=1.02}]\\\\tikzstyle{basic}=[draw,fill=white,basicshadow]\\n\\\\tikzstyle{operator}=[basic,minimum size=1.5em]\\n\\\\tikzstyle{phase}=[fill=black,shape=circle,minimum size=0.1cm,inner sep=0pt,outer sep=0pt,draw=black]\\n\\\\tikzstyle{none}=[inner sep=0pt,outer sep=-.5pt,minimum height=0.5cm+1pt]\\n\\\\tikzstyle{measure}=[operator,inner sep=0pt,minimum height=0.5cm, minimum width=0.75cm]\\n\\\\tikzstyle{xstyle}=[circle,basic,minimum height=0.35cm,minimum width=0.35cm,inner sep=0pt,very thin]\\n\\\\tikzset{\\nshadowed/.style={preaction={transform canvas={shift={(0.5pt,-0.5pt)}}, draw=gray, opacity=0.4}},\\n}\\n\\\\tikzstyle{swapstyle}=[inner sep=-1pt, outer sep=-1pt, minimum width=0pt]\\n\\\\tikzstyle{edgestyle}=[very thin]\\n\\\\node[none] (line0_gate0) at (0.2,-0) {$\\\\Ket{0}$};\\n\\\\node[xstyle] (line0_gate1) at (1.0999999999999999,-0) {};\\n\\\\draw[edgestyle] (line0_gate1.north)--(line0_gate1.south);\\n\\\\draw[edgestyle] (line0_gate1.west)--(line0_gate1.east);\\n\\\\draw (line0_gate0) edge[edgestyle] (line0_gate1);\\n\\\\node[none] (line1_gate0) at (0.2,-1) {$\\\\Ket{0}$};\\n\\\\node[xstyle] (line1_gate1) at (1.0999999999999999,-1) {};\\n\\\\draw[edgestyle] (line1_gate1.north)--(line1_gate1.south);\\n\\\\draw[edgestyle] (line1_gate1.west)--(line1_gate1.east);\\n\\\\draw (line1_gate0) edge[edgestyle] (line1_gate1);\\n\\\\node[xstyle] (line1_gate2) at (1.9999999999999998,-1) {};\\n\\\\draw[edgestyle] (line1_gate2.north)--(line1_gate2.south);\\n\\\\draw[edgestyle] (line1_gate2.west)--(line1_gate2.east);\\n\\\\node[phase] (line0_gate2) at (1.9999999999999998,-0) {};\\n\\\\draw (line0_gate2) edge[edgestyle] (line1_gate2);\\n\\\\draw (line1_gate1) edge[edgestyle] (line1_gate2);\\n\\\\draw (line0_gate1) edge[edgestyle] (line0_gate2);\\\\end{tikzpicture}\\n\\\\end{document}'"
      ]
     },
     "execution_count": 39,
     "metadata": {},
     "output_type": "execute_result"
    }
   ],
   "source": [
    "from pyquil.latex import to_latex\n",
    "\n",
    "to_latex(p)"
   ]
  },
  {
   "cell_type": "code",
   "execution_count": 49,
   "metadata": {
    "ExecuteTime": {
     "end_time": "2019-03-12T22:32:06.640282Z",
     "start_time": "2019-03-12T22:32:06.633861Z"
    }
   },
   "outputs": [
    {
     "data": {
      "text/plain": [
       "<pyquil.api._compiler.LocalQVMCompiler at 0x11f861390>"
      ]
     },
     "execution_count": 49,
     "metadata": {},
     "output_type": "execute_result"
    }
   ],
   "source": [
    "qc.compiler"
   ]
  },
  {
   "cell_type": "code",
   "execution_count": 40,
   "metadata": {
    "ExecuteTime": {
     "end_time": "2019-03-12T20:36:39.819560Z",
     "start_time": "2019-03-12T20:36:39.766306Z"
    }
   },
   "outputs": [
    {
     "name": "stdout",
     "output_type": "stream",
     "text": [
      "[[0 0]\n",
      " [1 1]\n",
      " [1 1]\n",
      " [1 1]\n",
      " [1 1]\n",
      " [1 1]\n",
      " [0 0]\n",
      " [1 1]\n",
      " [0 0]\n",
      " [1 1]]\n"
     ]
    }
   ],
   "source": [
    "p = Program()\n",
    "ro = p.declare('ro', 'BIT', 2)\n",
    "p += Program(H(1), CNOT(1, 0), MEASURE(0, ro[0]), MEASURE(1, ro[1]))\n",
    "p.wrap_in_numshots_loop(shots=10)\n",
    "\n",
    "exec = qc.compile(p)\n",
    "results = qc.run(exec)\n",
    "\n",
    "print(results)"
   ]
  },
  {
   "cell_type": "code",
   "execution_count": 43,
   "metadata": {
    "ExecuteTime": {
     "end_time": "2019-03-12T20:36:53.002560Z",
     "start_time": "2019-03-12T20:36:52.998419Z"
    }
   },
   "outputs": [
    {
     "name": "stdout",
     "output_type": "stream",
     "text": [
      "DECLARE ro BIT[2]\n",
      "PRAGMA EXPECTED_REWIRING \"#(0 1 2 3 4 5 6 7 8 9 10 11 12 13 14 15 16 17)\"\n",
      "RZ(-pi/2) 0\n",
      "RX(pi/2) 0\n",
      "RZ(pi/2) 1\n",
      "RX(pi/2) 1\n",
      "CZ 0 1\n",
      "RX(-pi/2) 0\n",
      "RZ(pi/2) 0\n",
      "MEASURE 0 ro[0]\n",
      "RZ(-pi/2) 1\n",
      "MEASURE 1 ro[1]\n",
      "PRAGMA CURRENT_REWIRING \"#(0 1 2 3 4 5 6 7 8 9 10 11 12 13 14 15 16 17)\"\n",
      "HALT\n",
      "\n"
     ]
    }
   ],
   "source": [
    "print(exec.program)"
   ]
  },
  {
   "cell_type": "markdown",
   "metadata": {},
   "source": [
    "It looks like `CNOT` left $\\left|00\\right>_{10}=\\left|0\\right>_1\\left|0\\right>_0$ and $\\left|10\\right>_{10}=\\left|1\\right>_1\\left|0\\right>_0$ alone and flipped the bit on first bit, the bit of qubit 1, for the other two, $\\left|11\\right>_{10}=\\left|1\\right>_1\\left|1\\right>_0$ and $\\left|01\\right>_{10}=\\left|0\\right>_1\\left|1\\right>_0$. This is called the controlled-not gate because it only flips the bit on qubit 1, the \"target\" qubit if the \"control\" qubit, qubit 0, is in the excited state. CNOT accepts arguments in the order `control, target`, e.g. `CNOT(control_qubit, target_qubit)`. Notice the endian ordering of the bitstrings we're acting on here. We order them differently for reasons laid out in the [Quil white paper](https://arxiv.org/abs/1608.03355).  "
   ]
  },
  {
   "cell_type": "markdown",
   "metadata": {},
   "source": [
    "# pyQuil odds and ends"
   ]
  },
  {
   "cell_type": "markdown",
   "metadata": {},
   "source": [
    "To actually measure (or more accurately, sample from the wavefunction when we're simulating) rather than just obtain the wavefunction, we have to introduce a `QuantumComputer` object that has methods `run` and `run_and_measure`. "
   ]
  },
  {
   "cell_type": "code",
   "execution_count": 23,
   "metadata": {
    "ExecuteTime": {
     "end_time": "2019-03-12T19:54:00.748996Z",
     "start_time": "2019-03-12T19:54:00.739181Z"
    }
   },
   "outputs": [],
   "source": [
    "from pyquil.api import get_qc\n",
    "qc = get_qc(\"4q-qvm\") # initialize a 4-qubit, fully-connected QVM\n",
    "# dir(qc)  # check out all the attributes and methods you have access to using Python's `dir`"
   ]
  },
  {
   "cell_type": "markdown",
   "metadata": {},
   "source": [
    "If you don't want to think about memory registers or anything fancy, simply use `run_and_measure`, which does it all for you under the hood. "
   ]
  },
  {
   "cell_type": "code",
   "execution_count": 24,
   "metadata": {
    "ExecuteTime": {
     "end_time": "2019-03-12T19:54:00.818848Z",
     "start_time": "2019-03-12T19:54:00.753697Z"
    }
   },
   "outputs": [
    {
     "data": {
      "text/plain": [
       "{0: array([1, 1, 1, 1, 1, 1, 0, 1, 0, 1]),\n",
       " 1: array([0, 0, 0, 0, 0, 0, 0, 0, 0, 0]),\n",
       " 2: array([0, 0, 0, 0, 0, 0, 0, 0, 0, 0]),\n",
       " 3: array([0, 0, 0, 0, 0, 0, 0, 0, 0, 0])}"
      ]
     },
     "execution_count": 24,
     "metadata": {},
     "output_type": "execute_result"
    }
   ],
   "source": [
    "prog = Program(H(0))\n",
    "qc.run_and_measure(prog, trials=10)"
   ]
  },
  {
   "cell_type": "markdown",
   "metadata": {},
   "source": [
    "Let's say that you only wanted to read out on some of these qubits or you wanted to control which memory registers the bit strings the quantum computer reads out are stored to. Here, you'll have to use `run` after declaring memory regions and including explicit `MEASURE` instructions. "
   ]
  },
  {
   "cell_type": "code",
   "execution_count": 25,
   "metadata": {
    "ExecuteTime": {
     "end_time": "2019-03-12T19:54:00.880874Z",
     "start_time": "2019-03-12T19:54:00.827178Z"
    },
    "scrolled": true
   },
   "outputs": [
    {
     "name": "stdout",
     "output_type": "stream",
     "text": [
      "DECLARE ro BIT[1]\n",
      "H 0\n",
      "MEASURE 0 ro[0]\n",
      "\n",
      "[[0]\n",
      " [0]\n",
      " [0]\n",
      " [1]\n",
      " [0]\n",
      " [1]\n",
      " [0]\n",
      " [0]\n",
      " [1]\n",
      " [1]]\n"
     ]
    }
   ],
   "source": [
    "p = Program()\n",
    "# Declare one bit of classical memory\n",
    "classical_register = p.declare('ro', 'BIT', 1)\n",
    "\n",
    "# Measure out on qubit 0 and record the results in the 0th index of classical_register\n",
    "p += Program(H(0)).measure(0, classical_register[0])\n",
    "\n",
    "print(p.out())\n",
    "\n",
    "# Measure the qubits specified by classical_register (qubit 0) a number of times\n",
    "p.wrap_in_numshots_loop(shots=10)\n",
    "\n",
    "# We see probabilistic results of about half 1's and half 0's\n",
    "print(qc.run(qc.compile(p)))"
   ]
  },
  {
   "cell_type": "markdown",
   "metadata": {},
   "source": [
    "You can view the topology of your `QuantumComputer` object using `networkx`. \n",
    "\n",
    "NB: I have no idea why, but sometimes you have to execute this cell twice to make it show up. "
   ]
  },
  {
   "cell_type": "code",
   "execution_count": 28,
   "metadata": {
    "ExecuteTime": {
     "end_time": "2019-03-12T19:55:30.642453Z",
     "start_time": "2019-03-12T19:55:29.519549Z"
    }
   },
   "outputs": [
    {
     "data": {
      "image/png": "[encoded data removed]",
      "text/plain": [
       "<Figure size 432x288 with 1 Axes>"
      ]
     },
     "metadata": {},
     "output_type": "display_data"
    }
   ],
   "source": [
    "import networkx as nx\n",
    "\n",
    "qc = get_qc(\"Aspen-1-16Q-A-qvm\")\n",
    "\n",
    "nx.draw(qc.qubit_topology())"
   ]
  },
  {
   "cell_type": "code",
   "execution_count": 28,
   "metadata": {
    "ExecuteTime": {
     "end_time": "2019-03-12T19:55:30.642453Z",
     "start_time": "2019-03-12T19:55:29.519549Z"
    }
   },
   "outputs": [
    {
     "data": {
      "image/png": "[encoded data removed]",
      "text/plain": [
       "<Figure size 432x288 with 1 Axes>"
      ]
     },
     "metadata": {},
     "output_type": "display_data"
    }
   ],
   "source": [
    "import networkx as nx\n",
    "\n",
    "qc = get_qc(\"Aspen-1-16Q-A-qvm\")\n",
    "\n",
    "nx.draw(qc.qubit_topology())"
   ]
  },
  {
   "cell_type": "code",
   "execution_count": 44,
   "metadata": {
    "ExecuteTime": {
     "end_time": "2019-03-12T22:18:07.394866Z",
     "start_time": "2019-03-12T22:18:07.274881Z"
    }
   },
   "outputs": [
    {
     "data": {
      "image/png": "[encoded data removed]",
      "text/plain": [
       "<Figure size 432x288 with 1 Axes>"
      ]
     },
     "metadata": {},
     "output_type": "display_data"
    }
   ],
   "source": [
    "import networkx as nx\n",
    "\n",
    "qc = get_qc(\"9q-square-qvm\")\n",
    "\n",
    "nx.draw(qc.qubit_topology())"
   ]
  },
  {
   "cell_type": "code",
   "execution_count": 30,
   "metadata": {
    "ExecuteTime": {
     "end_time": "2019-03-12T20:10:08.766917Z",
     "start_time": "2019-03-12T20:10:08.349729Z"
    }
   },
   "outputs": [],
   "source": [
    "# qc = get_qc(\"Aspen-1-16Q-A\")  # real quantum device\n",
    "\n",
    "qc = get_qc(\"Aspen-1-16Q-A-qvm\")  # that device simulated"
   ]
  },
  {
   "cell_type": "code",
   "execution_count": 33,
   "metadata": {
    "ExecuteTime": {
     "end_time": "2019-03-12T20:10:23.363823Z",
     "start_time": "2019-03-12T20:10:23.356721Z"
    }
   },
   "outputs": [
    {
     "data": {
      "text/plain": [
       "{0: 7.53e-06,\n",
       " 1: 2e-06,\n",
       " 2: 7e-06,\n",
       " 3: 1e-05,\n",
       " 4: 5e-06,\n",
       " 5: 9e-06,\n",
       " 6: 4e-06,\n",
       " 7: 1.4e-05,\n",
       " 10: 7e-06,\n",
       " 11: 1.2e-05,\n",
       " 12: 5e-06,\n",
       " 13: 1e-05,\n",
       " 14: 7e-06,\n",
       " 15: 1.4e-05,\n",
       " 16: 1e-05,\n",
       " 17: 1.2e-05}"
      ]
     },
     "execution_count": 33,
     "metadata": {},
     "output_type": "execute_result"
    }
   ],
   "source": [
    "qc.device.specs.T1s()"
   ]
  },
  {
   "cell_type": "code",
   "execution_count": 34,
   "metadata": {
    "ExecuteTime": {
     "end_time": "2019-03-12T20:10:46.527811Z",
     "start_time": "2019-03-12T20:10:46.522504Z"
    }
   },
   "outputs": [
    {
     "data": {
      "text/plain": [
       "['T1s',\n",
       " 'T2s',\n",
       " '__add__',\n",
       " '__class__',\n",
       " '__contains__',\n",
       " '__delattr__',\n",
       " '__dict__',\n",
       " '__dir__',\n",
       " '__doc__',\n",
       " '__eq__',\n",
       " '__format__',\n",
       " '__ge__',\n",
       " '__getattribute__',\n",
       " '__getitem__',\n",
       " '__getnewargs__',\n",
       " '__gt__',\n",
       " '__hash__',\n",
       " '__init__',\n",
       " '__init_subclass__',\n",
       " '__iter__',\n",
       " '__le__',\n",
       " '__len__',\n",
       " '__lt__',\n",
       " '__module__',\n",
       " '__mul__',\n",
       " '__ne__',\n",
       " '__new__',\n",
       " '__reduce__',\n",
       " '__reduce_ex__',\n",
       " '__repr__',\n",
       " '__rmul__',\n",
       " '__setattr__',\n",
       " '__sizeof__',\n",
       " '__slots__',\n",
       " '__str__',\n",
       " '__subclasshook__',\n",
       " '_asdict',\n",
       " '_fields',\n",
       " '_make',\n",
       " '_replace',\n",
       " '_source',\n",
       " 'count',\n",
       " 'edges_specs',\n",
       " 'f1QRBs',\n",
       " 'fActiveResets',\n",
       " 'fBellStates',\n",
       " 'fCPHASEs',\n",
       " 'fCZ_std_errs',\n",
       " 'fCZs',\n",
       " 'fROs',\n",
       " 'from_dict',\n",
       " 'index',\n",
       " 'qubits_specs',\n",
       " 'to_dict']"
      ]
     },
     "execution_count": 34,
     "metadata": {},
     "output_type": "execute_result"
    }
   ],
   "source": [
    "dir(qc.device.specs)\n"
   ]
  },
  {
   "cell_type": "code",
   "execution_count": null,
   "metadata": {},
   "outputs": [],
   "source": []
  }
 ],
 "metadata": {
  "kernelspec": {
   "display_name": "Python 3",
   "language": "python",
   "name": "python3"
  },
  "language_info": {
   "codemirror_mode": {
    "name": "ipython",
    "version": 3
   },
   "file_extension": ".py",
   "mimetype": "text/x-python",
   "name": "python",
   "nbconvert_exporter": "python",
   "pygments_lexer": "ipython3",
   "version": "3.6.8"
  },
  "toc": {
   "nav_menu": {},
   "number_sections": true,
   "sideBar": true,
   "skip_h1_title": false,
   "title_cell": "Table of Contents",
   "title_sidebar": "Contents",
   "toc_cell": false,
   "toc_position": {},
   "toc_section_display": true,
   "toc_window_display": false
  },
  "varInspector": {
   "cols": {
    "lenName": 16,
    "lenType": 16,
    "lenVar": 40
   },
   "kernels_config": {
    "python": {
     "delete_cmd_postfix": "",
     "delete_cmd_prefix": "del ",
     "library": "var_list.py",
     "varRefreshCmd": "print(var_dic_list())"
    },
    "r": {
     "delete_cmd_postfix": ") ",
     "delete_cmd_prefix": "rm(",
     "library": "var_list.r",
     "varRefreshCmd": "cat(var_dic_list()) "
    }
   },
   "types_to_exclude": [
    "module",
    "function",
    "builtin_function_or_method",
    "instance",
    "_Feature"
   ],
   "window_display": false
  }
 },
 "nbformat": 4,
 "nbformat_minor": 2
}
