{
 "cells": [
  {
   "cell_type": "code",
   "execution_count": null,
   "metadata": {},
   "outputs": [],
   "source": [
    "from pyquil import Program, get_qc\n",
    "from pyquil.api import WavefunctionSimulator\n",
    "from pyquil.gates import *\n",
    "import numpy as np"
   ]
  },
  {
   "cell_type": "markdown",
   "metadata": {},
   "source": [
    "Let's create some random wavefunction that we want to teleport."
   ]
  },
  {
   "cell_type": "code",
   "execution_count": null,
   "metadata": {},
   "outputs": [],
   "source": [
    "def random_unitary():\n",
    "    \"\"\"\n",
    "    :return: array of shape (2, 2) representing random unitary matrix drawn from Haar measure\n",
    "    \"\"\"\n",
    "    # draw complex matrix from Ginibre ensemble\n",
    "    z = np.random.randn(2, 2) + 1j * np.random.randn(2, 2)\n",
    "    # QR decompose this complex matrix\n",
    "    q, r = np.linalg.qr(z)\n",
    "    # make this decomposition unique\n",
    "    d = np.diagonal(r)\n",
    "    l = np.diag(d) / np.abs(d)\n",
    "    return np.matmul(q, l)\n",
    "\n",
    "\n",
    "def random_wavefunc():\n",
    "    \"\"\"\n",
    "    :return: Program for a quantum circuit creating a random 1-qubit state\n",
    "    \"\"\"\n",
    "    p = Program()\n",
    "    p.defgate(\"RandomUnitary\", random_unitary())\n",
    "    p.inst((\"RandomUnitary\", 2))\n",
    "    return p"
   ]
  },
  {
   "cell_type": "code",
   "execution_count": null,
   "metadata": {},
   "outputs": [],
   "source": [
    "wfn_sim = WavefunctionSimulator()"
   ]
  },
  {
   "cell_type": "code",
   "execution_count": null,
   "metadata": {},
   "outputs": [],
   "source": [
    "prog = Program()\n",
    "alice_regs = prog.declare('alice_regs', 'BIT', 2)"
   ]
  },
  {
   "cell_type": "code",
   "execution_count": null,
   "metadata": {},
   "outputs": [],
   "source": [
    "prog += random_wavefunc()\n",
    "wfn_orig = wfn_sim.wavefunction(prog)\n",
    "print(wfn_orig)"
   ]
  },
  {
   "cell_type": "markdown",
   "metadata": {},
   "source": [
    "Suppose we created the above wavefunction at some location A. We would like to teleport this wavefunction to some distant location B. The teleportation protocal necessitates the observers at A and B (Alice and Bob, respectively) to share a Bell state as a resource. So let's add the creation of a Bell state to our Program."
   ]
  },
  {
   "cell_type": "code",
   "execution_count": null,
   "metadata": {},
   "outputs": [],
   "source": [
    "def bell_state(q0, q1):\n",
    "    \"\"\"\n",
    "    :param int q0: first (R-to-L) qubit to form part of the Bell state\n",
    "    :param int q1: second (R-to-L) qubit to form part of the Bell state\n",
    "    :return: Program creating a Bell state between input qubits\n",
    "    \"\"\"\n",
    "    # TODO"
   ]
  },
  {
   "cell_type": "code",
   "execution_count": null,
   "metadata": {},
   "outputs": [],
   "source": [
    "# Note that the random wavefunction was created over qubit 2\n",
    "# before the creation of a Bell state over qubits 1 and 0\n",
    "prog += bell_state(0, 1)"
   ]
  },
  {
   "cell_type": "markdown",
   "metadata": {},
   "source": [
    "So now we've created a 3 qubit state $\\vert \\psi \\rangle \\vert \\beta_{00} \\rangle$, which can be re-written as $\\frac{1}{2} \\left( \\vert \\beta_{00} \\rangle \\vert \\psi \\rangle + \\vert \\beta_{01} \\rangle (X \\vert \\psi \\rangle) + \\vert \\beta_{10} \\rangle (Z \\vert \\psi \\rangle) + \\vert \\beta_{11} \\rangle (XZ\\vert \\psi \\rangle) \\right)$.<br>\n",
    "<br>\n",
    "The last two qubits (R-to-L) are in Alice's possession. The teleportation protocol requires Alice to measure these qubits in the Bell basis. Let's make sure she can do this."
   ]
  },
  {
   "cell_type": "code",
   "execution_count": null,
   "metadata": {},
   "outputs": [],
   "source": [
    "def bell_basis_circuit(q0, q1):\n",
    "    \"\"\"\n",
    "    :param int q0: first (R-to-L) qubit that Alice will measure\n",
    "    :param int q1: second (R-to-L) qubit that Alice will measure\n",
    "    :return: Program preparing a measurement in the Bell basis\n",
    "    \"\"\"\n",
    "    # TODO"
   ]
  },
  {
   "cell_type": "code",
   "execution_count": null,
   "metadata": {},
   "outputs": [],
   "source": [
    "# Prepare the measurement of qubits 2 and 1 in the Bell basis\n",
    "prog += bell_basis_circuit(1, 2)"
   ]
  },
  {
   "cell_type": "markdown",
   "metadata": {},
   "source": [
    "In order for Bob to successfully reconstruct the wavefunction $\\vert \\psi \\rangle$, he needs to receive the two classical bits from Alice corresponding to her measurement of the two qubits in her posession in the Bell basis. He then needs to conditionally apply quantum gate(s) to his qubit based on the classical bits he receives from Alice, according to:<br><br>\n",
    "$M_1, M_2 \\quad\\quad\\quad \\text{Bob performs}$<br>\n",
    "$\\,\\,0,0 \\quad\\quad\\quad\\quad\\quad I$<br>\n",
    "$\\,\\,0,1 \\quad\\quad\\quad\\quad\\quad X$<br>\n",
    "$\\,\\,1,0 \\quad\\quad\\quad\\quad\\quad Z$<br>\n",
    "$\\,\\,1,1 \\quad\\quad\\quad\\quad\\quad Z\\cdot X$<br>\n",
    "<br>\n",
    "Let's write a function that allows Bob to do this."
   ]
  },
  {
   "cell_type": "code",
   "execution_count": null,
   "metadata": {},
   "outputs": [],
   "source": [
    "def conditionally_apply_gate(p, q0, q1, q2, alice_regs):\n",
    "    \"\"\"\n",
    "    NOTE: This function directly modifies the input Program,\n",
    "        but does not return a new Program\n",
    "    \n",
    "    :param p: Program that performs the teleportation protocol\n",
    "        upto conditional application of Bob's gate(s)\n",
    "    :param int q0: only qubit that Bob possesses\n",
    "    :param int q1: first (R-to-L) qubit that Alice measures\n",
    "    :param int q2: second (R-to-L) qubit that Alice measures\n",
    "    :param list alice_regs: classical registers holding Alice's\n",
    "        measurements of her qubits\n",
    "    \"\"\"\n",
    "    # TODO"
   ]
  },
  {
   "cell_type": "markdown",
   "metadata": {},
   "source": [
    "Apply these conditional gates on the wavefunction"
   ]
  },
  {
   "cell_type": "code",
   "execution_count": null,
   "metadata": {},
   "outputs": [],
   "source": [
    "conditionally_apply_gate(prog, 0, 1, 2, alice_regs)"
   ]
  },
  {
   "cell_type": "markdown",
   "metadata": {},
   "source": [
    "In the end, the wavefunction we have produced over all 3 qubits looks like:"
   ]
  },
  {
   "cell_type": "code",
   "execution_count": null,
   "metadata": {},
   "outputs": [],
   "source": [
    "wfn = wfn_sim.wavefunction(prog)\n",
    "print (wfn)"
   ]
  },
  {
   "cell_type": "markdown",
   "metadata": {},
   "source": [
    "Bob has possession of the right-most qubit. Let's compare this wavefunction to the one Alice originally posssesed. Note that the wavefunction above can be decomposed as a product state of qubit 0 and qubits 1 and 2: $\\vert \\psi \\rangle = \\vert \\psi \\rangle_{21} \\otimes \\vert \\psi \\rangle_{0}$."
   ]
  },
  {
   "cell_type": "code",
   "execution_count": null,
   "metadata": {},
   "outputs": [],
   "source": [
    "print (wfn_orig)"
   ]
  },
  {
   "cell_type": "code",
   "execution_count": null,
   "metadata": {},
   "outputs": [],
   "source": [
    "# Make sure wavefunction has indeed been teleported\n",
    "\n",
    "np.testing.assert_almost_equal(\n",
    "    np.sum([v for k, v in wfn.get_outcome_probs().items()\n",
    "            if k[-1] == '0']), \n",
    "    wfn_orig.get_outcome_probs()['0'])\n",
    "\n",
    "np.testing.assert_almost_equal(\n",
    "    np.sum([v for k, v in wfn.get_outcome_probs().items()\n",
    "            if k[-1] == '1']), \n",
    "    wfn_orig.get_outcome_probs()['1'])"
   ]
  }
 ],
 "metadata": {
  "kernelspec": {
   "display_name": "Python 3",
   "language": "python",
   "name": "python3"
  },
  "language_info": {
   "codemirror_mode": {
    "name": "ipython",
    "version": 3
   },
   "file_extension": ".py",
   "mimetype": "text/x-python",
   "name": "python",
   "nbconvert_exporter": "python",
   "pygments_lexer": "ipython3",
   "version": "3.6.8"
  },
  "toc": {
   "nav_menu": {},
   "number_sections": true,
   "sideBar": true,
   "skip_h1_title": false,
   "title_cell": "Table of Contents",
   "title_sidebar": "Contents",
   "toc_cell": false,
   "toc_position": {},
   "toc_section_display": true,
   "toc_window_display": false
  },
  "varInspector": {
   "cols": {
    "lenName": 16,
    "lenType": 16,
    "lenVar": 40
   },
   "kernels_config": {
    "python": {
     "delete_cmd_postfix": "",
     "delete_cmd_prefix": "del ",
     "library": "var_list.py",
     "varRefreshCmd": "print(var_dic_list())"
    },
    "r": {
     "delete_cmd_postfix": ") ",
     "delete_cmd_prefix": "rm(",
     "library": "var_list.r",
     "varRefreshCmd": "cat(var_dic_list()) "
    }
   },
   "types_to_exclude": [
    "module",
    "function",
    "builtin_function_or_method",
    "instance",
    "_Feature"
   ],
   "window_display": false
  }
 },
 "nbformat": 4,
 "nbformat_minor": 2
}
