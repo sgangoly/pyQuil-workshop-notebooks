{
 "cells": [
  {
   "cell_type": "code",
   "execution_count": 1,
   "metadata": {
    "ExecuteTime": {
     "end_time": "2019-03-15T23:52:35.400959Z",
     "start_time": "2019-03-15T23:52:35.396818Z"
    }
   },
   "outputs": [],
   "source": [
    "import sys\n",
    "sys.path = ['', '/Users/amy/Repositories/amy/amy/pyQuil_workshop/pyQuil_workshop_notebooks', '/Users/amy/Repositories/amy', '/Users/amy/miniconda3/envs/grove-pyQuil2.0/lib/python36.zip', '/Users/amy/miniconda3/envs/grove-pyQuil2.0/lib/python3.6', '/Users/amy/miniconda3/envs/grove-pyQuil2.0/lib/python3.6/lib-dynload', '/Users/amy/.local/lib/python3.6/site-packages', '/Users/amy/miniconda3/envs/grove-pyQuil2.0/lib/python3.6/site-packages']"
   ]
  },
  {
   "cell_type": "markdown",
   "metadata": {},
   "source": [
    "Everything in this notebook is taken from the [Introduction to Quantum Computing](https://pyquil.readthedocs.io/en/stable/intro.html#some-code) section of the pyQuil documentation. Refer there if you need help getting through these exercises. "
   ]
  },
  {
   "cell_type": "code",
   "execution_count": 2,
   "metadata": {
    "ExecuteTime": {
     "end_time": "2019-03-15T23:52:37.275147Z",
     "start_time": "2019-03-15T23:52:35.404202Z"
    }
   },
   "outputs": [],
   "source": [
    "# Imports for pyQuil\n",
    "import numpy as np\n",
    "from pyquil import Program, get_qc\n",
    "from pyquil.api import WavefunctionSimulator\n",
    "from pyquil.gates import H, I, X, Y, Z, CNOT, MEASURE"
   ]
  },
  {
   "cell_type": "markdown",
   "metadata": {},
   "source": [
    "# Single Qubit Operations"
   ]
  },
  {
   "cell_type": "markdown",
   "metadata": {},
   "source": [
    "Let's try applying an identity gate, which we know should do nothing. "
   ]
  },
  {
   "cell_type": "code",
   "execution_count": 3,
   "metadata": {
    "ExecuteTime": {
     "end_time": "2019-03-15T23:52:37.302769Z",
     "start_time": "2019-03-15T23:52:37.277719Z"
    }
   },
   "outputs": [
    {
     "name": "stdout",
     "output_type": "stream",
     "text": [
      "Our qubit is in the state alpha=(1+0j) and beta=0j\n",
      "The probability of measuring the qubit in outcome 0 is 1.0\n",
      "The probability of measuring the qubit in outcome 1 is 0.0\n"
     ]
    }
   ],
   "source": [
    "# create a WavefunctionSimulator object and a generic QuantumComputer object\n",
    "wavefunction_simulator = WavefunctionSimulator()\n",
    "qc = get_qc('9q-generic-qvm')\n",
    "\n",
    "# pyQuil is based around operations (or gates) so we will start with the most\n",
    "# basic one: the identity operation, called I. I takes one argument, the index\n",
    "# of the qubit that it should be applied to.\n",
    "# Make a quantum program that allocates one qubit (qubit #0) and does nothing to it\n",
    "p = Program(I(0))\n",
    "\n",
    "# Quantum states are called wavefunctions for historical reasons.\n",
    "# We can run this basic program on our connection to the simulator.\n",
    "# This call will return the state of our qubits after we run program p.\n",
    "# This api call returns a tuple, but we'll ignore the second value for now.\n",
    "wavefunction = wavefunction_simulator.wavefunction(p)\n",
    "\n",
    "# wavefunction is a Wavefunction object that stores a quantum state as a list of amplitudes\n",
    "alpha, beta = wavefunction\n",
    "\n",
    "print(\"Our qubit is in the state alpha={} and beta={}\".format(alpha, beta))\n",
    "print(\"The probability of measuring the qubit in outcome 0 is {}\".format(abs(alpha)**2))\n",
    "print(\"The probability of measuring the qubit in outcome 1 is {}\".format(abs(beta)**2))"
   ]
  },
  {
   "cell_type": "markdown",
   "metadata": {},
   "source": [
    "With `run_and_measure`, we can supply a program and a number of trials, and we get back a dictionary of results across all qubits in the `QuantumComputer` object `qc`. "
   ]
  },
  {
   "cell_type": "code",
   "execution_count": 4,
   "metadata": {
    "ExecuteTime": {
     "end_time": "2019-03-15T23:52:37.367096Z",
     "start_time": "2019-03-15T23:52:37.305589Z"
    }
   },
   "outputs": [
    {
     "name": "stdout",
     "output_type": "stream",
     "text": [
      "[0 0 0 0 0 0 0 0 0 0]\n"
     ]
    }
   ],
   "source": [
    "p = Program(I(0))\n",
    "results = qc.run_and_measure(p, trials=10)[0]\n",
    "\n",
    "print(results)"
   ]
  },
  {
   "cell_type": "markdown",
   "metadata": {},
   "source": [
    "The identity gate reads out uniformly in the ground state, as we expected. Now compare the action of the identity gate to the bit-flip or NOT gate, `X`. "
   ]
  },
  {
   "cell_type": "code",
   "execution_count": 5,
   "metadata": {
    "ExecuteTime": {
     "end_time": "2019-03-15T23:52:37.379325Z",
     "start_time": "2019-03-15T23:52:37.369944Z"
    }
   },
   "outputs": [
    {
     "name": "stdout",
     "output_type": "stream",
     "text": [
      "Our qubit is in the state alpha=0j and beta=(1+0j)\n",
      "The probability of measuring the qubit in outcome 0 is 0.0\n",
      "The probability of measuring the qubit in outcome 1 is 1.0\n"
     ]
    }
   ],
   "source": [
    "# TODO: replace this program with one that enacts an X gate\n",
    "p = Program(X(0))\n",
    "\n",
    "wavefunc = wavefunction_simulator.wavefunction(p)\n",
    "alpha, beta = wavefunc\n",
    "\n",
    "print(\"Our qubit is in the state alpha={} and beta={}\".format(alpha, beta))\n",
    "print(\"The probability of measuring the qubit in outcome 0 is {}\".format(abs(alpha)**2))\n",
    "print(\"The probability of measuring the qubit in outcome 1 is {}\".format(abs(beta)**2))"
   ]
  },
  {
   "cell_type": "code",
   "execution_count": 6,
   "metadata": {
    "ExecuteTime": {
     "end_time": "2019-03-15T23:52:37.429099Z",
     "start_time": "2019-03-15T23:52:37.381036Z"
    }
   },
   "outputs": [
    {
     "name": "stdout",
     "output_type": "stream",
     "text": [
      "[1 1 1 1 1 1 1 1 1 1]\n"
     ]
    }
   ],
   "source": [
    "p = Program(X(0))\n",
    "results = qc.run_and_measure(p, trials=10)[0]\n",
    "\n",
    "print(results)"
   ]
  },
  {
   "cell_type": "markdown",
   "metadata": {},
   "source": [
    "We can see that applying the X gate brings the qubit to the excited state, and so we repeatedly read out `1`s. We can apply it again to make sure that the `X` gate acting on the excited state brings us back to the ground state. "
   ]
  },
  {
   "cell_type": "code",
   "execution_count": 7,
   "metadata": {
    "ExecuteTime": {
     "end_time": "2019-03-15T23:52:37.469084Z",
     "start_time": "2019-03-15T23:52:37.431643Z"
    }
   },
   "outputs": [
    {
     "name": "stdout",
     "output_type": "stream",
     "text": [
      "[0 0 0 0 0 0 0 0 0 0]\n"
     ]
    }
   ],
   "source": [
    "p = Program(X(0), X(0))\n",
    "results = qc.run_and_measure(p, trials=10)[0]\n",
    "\n",
    "print(results)"
   ]
  },
  {
   "cell_type": "markdown",
   "metadata": {},
   "source": [
    "The wavefunction outcome probabilities are stored in a dictionary"
   ]
  },
  {
   "cell_type": "code",
   "execution_count": 8,
   "metadata": {
    "ExecuteTime": {
     "end_time": "2019-03-15T23:52:37.482200Z",
     "start_time": "2019-03-15T23:52:37.472197Z"
    }
   },
   "outputs": [
    {
     "name": "stdout",
     "output_type": "stream",
     "text": [
      "{'00': 1.0, '01': 0.0, '10': 0.0, '11': 0.0}\n"
     ]
    }
   ],
   "source": [
    "# wavefunction(Program) returns a coefficient array that corresponds to outcomes in the following order\n",
    "wavefunction = wavefunction_simulator.wavefunction(Program(I(0), I(1)))\n",
    "print(wavefunction.get_outcome_probs())"
   ]
  },
  {
   "cell_type": "markdown",
   "metadata": {},
   "source": [
    "Now we can look at the action of all the Pauli operators."
   ]
  },
  {
   "cell_type": "code",
   "execution_count": 9,
   "metadata": {
    "ExecuteTime": {
     "end_time": "2019-03-15T23:52:37.505232Z",
     "start_time": "2019-03-15T23:52:37.484187Z"
    }
   },
   "outputs": [
    {
     "name": "stdout",
     "output_type": "stream",
     "text": [
      "X|0> =  (1+0j)|1>\n",
      "The outcome probabilities are {'0': 0.0, '1': 1.0}\n",
      "This looks like a bit flip.\n",
      "\n",
      "Y|0> =  (1+0j)|0>\n",
      "The outcome probabilities are {'0': 1.0}\n",
      "This also looks like a bit flip.\n",
      "\n",
      "Z|0> =  (1+0j)|0>\n",
      "The outcome probabilities are {'0': 1.0}\n",
      "This state looks unchanged.\n"
     ]
    }
   ],
   "source": [
    "from pyquil.gates import X, Y, Z\n",
    "\n",
    "p = Program(X(0))\n",
    "wavefunction = wavefunction_simulator.wavefunction(p)\n",
    "print(\"X|0> = \", wavefunction)\n",
    "print(\"The outcome probabilities are\", wavefunction.get_outcome_probs())\n",
    "print(\"This looks like a bit flip.\\n\")\n",
    "\n",
    "# TODO: replace this program with one that enacts a Y gate\n",
    "p = Program()\n",
    "wavefunction = wavefunction_simulator.wavefunction(p)\n",
    "print(\"Y|0> = \", wavefunction)\n",
    "print(\"The outcome probabilities are\", wavefunction.get_outcome_probs())\n",
    "print(\"This also looks like a bit flip.\\n\")\n",
    "\n",
    "# TODO: replace this program with one that enacts a Z gate\n",
    "p = Program()\n",
    "wavefunction = wavefunction_simulator.wavefunction(p)\n",
    "print(\"Z|0> = \", wavefunction)\n",
    "print(\"The outcome probabilities are\", wavefunction.get_outcome_probs())\n",
    "print(\"This state looks unchanged.\")"
   ]
  },
  {
   "cell_type": "markdown",
   "metadata": {},
   "source": [
    "What happened with the `Z` gate? To elucidate the action let's try performing a `Z` gate on a qubit in the excited state rather than the ground state, which we just tried. "
   ]
  },
  {
   "cell_type": "code",
   "execution_count": 10,
   "metadata": {
    "ExecuteTime": {
     "end_time": "2019-03-15T23:52:37.520621Z",
     "start_time": "2019-03-15T23:52:37.508510Z"
    }
   },
   "outputs": [
    {
     "name": "stdout",
     "output_type": "stream",
     "text": [
      "Z|0> =  (1+0j)|0>\n",
      "The outcome probabilities are {'0': 1.0}\n"
     ]
    }
   ],
   "source": [
    "# TODO: replace this program with one that prepares the excited state and then enacts a Z gate\n",
    "p = Program()\n",
    "wavefunction = wavefunction_simulator.wavefunction(p)\n",
    "print(\"Z|0> = \", wavefunction)\n",
    "print(\"The outcome probabilities are\", wavefunction.get_outcome_probs())"
   ]
  },
  {
   "cell_type": "markdown",
   "metadata": {},
   "source": [
    "Now, we can see that `Z` maps the excited state to itself with an additional $\\pi$ phase. Let's try to compose some gate operations on the same qubit. "
   ]
  },
  {
   "cell_type": "code",
   "execution_count": 11,
   "metadata": {
    "ExecuteTime": {
     "end_time": "2019-03-15T23:52:37.533761Z",
     "start_time": "2019-03-15T23:52:37.522900Z"
    }
   },
   "outputs": [
    {
     "name": "stdout",
     "output_type": "stream",
     "text": [
      "ZYX|0> =  -1j|0>\n",
      "With outcome probabilities\n",
      " {'0': 1.0, '1': 0.0}\n"
     ]
    }
   ],
   "source": [
    "# Composing qubit operations is the same as multiplying matrices sequentially\n",
    "p = Program(X(0), Y(0), Z(0))\n",
    "wavefunction = wavefunction_simulator.wavefunction(p)\n",
    "\n",
    "print(\"ZYX|0> = \", wavefunction)\n",
    "print(\"With outcome probabilities\\n\", wavefunction.get_outcome_probs())"
   ]
  },
  {
   "cell_type": "markdown",
   "metadata": {},
   "source": [
    "The Hadamard gate isn't a Pauli gate, although it is composed of two of them, i.e."
   ]
  },
  {
   "cell_type": "code",
   "execution_count": 12,
   "metadata": {
    "ExecuteTime": {
     "end_time": "2019-03-15T23:52:37.550700Z",
     "start_time": "2019-03-15T23:52:37.536509Z"
    }
   },
   "outputs": [
    {
     "name": "stdout",
     "output_type": "stream",
     "text": [
      "H|0> =  (0.7071067812+0j)|0> + (0.7071067812+0j)|1>\n",
      "With outcome probabilities\n",
      " {'0': 0.4999999999999999, '1': 0.4999999999999999}\n"
     ]
    }
   ],
   "source": [
    "from pyquil.gates import H\n",
    "\n",
    "had_program = Program(H(0))\n",
    "wavefunction = wavefunction_simulator.wavefunction(had_program)\n",
    "\n",
    "print(\"H|0> = \", wavefunction)\n",
    "print(\"With outcome probabilities\\n\", wavefunction.get_outcome_probs())"
   ]
  },
  {
   "cell_type": "markdown",
   "metadata": {},
   "source": [
    "Notice that the Hadamard maps $\\left|0\\right>$ to $\\left|+\\right>=\\frac{\\left|0\\right>+\\left|1\\right>}{2}$ and $\\left|+\\right>$ back to $\\left|0\\right>$, so it undoes itself if applied twice. In fact, the Hadamard operator does this regardless of the starting state, so we say $\\hat{H}^2=\\hat{I}$, and we call such an operator that undoes itself if applied twice _idempotent_. "
   ]
  },
  {
   "cell_type": "code",
   "execution_count": 13,
   "metadata": {
    "ExecuteTime": {
     "end_time": "2019-03-15T23:52:37.560574Z",
     "start_time": "2019-03-15T23:52:37.552574Z"
    }
   },
   "outputs": [
    {
     "name": "stdout",
     "output_type": "stream",
     "text": [
      "HH|0> =  (1+0j)|0>\n",
      "With outcome probabilities\n",
      " {'0': 1.0}\n"
     ]
    }
   ],
   "source": [
    "from pyquil.gates import H\n",
    "\n",
    "# TODO: replace this program with one that enacts the Hadamard gate twice\n",
    "had_program = Program()\n",
    "wavefunction = wavefunction_simulator.wavefunction(had_program)\n",
    "\n",
    "print(\"HH|0> = \", wavefunction)\n",
    "print(\"With outcome probabilities\\n\", wavefunction.get_outcome_probs())"
   ]
  },
  {
   "cell_type": "code",
   "execution_count": 14,
   "metadata": {
    "ExecuteTime": {
     "end_time": "2019-03-15T23:52:37.608470Z",
     "start_time": "2019-03-15T23:52:37.566524Z"
    }
   },
   "outputs": [
    {
     "name": "stdout",
     "output_type": "stream",
     "text": [
      "[1 1 1 1 0 0 0 0 1 0]\n"
     ]
    }
   ],
   "source": [
    "p = Program(H(0))\n",
    "results = qc.run_and_measure(p, trials=10)[0]\n",
    "\n",
    "print(results)"
   ]
  },
  {
   "cell_type": "code",
   "execution_count": 15,
   "metadata": {
    "ExecuteTime": {
     "end_time": "2019-03-15T23:52:37.656670Z",
     "start_time": "2019-03-15T23:52:37.612244Z"
    }
   },
   "outputs": [
    {
     "name": "stdout",
     "output_type": "stream",
     "text": [
      "[0 0 0 0 1 0 0 1 1 0]\n"
     ]
    }
   ],
   "source": [
    "p = Program(X(0), H(0))\n",
    "results = qc.run_and_measure(p, trials=10)[0]\n",
    "\n",
    "print(results)"
   ]
  },
  {
   "cell_type": "markdown",
   "metadata": {},
   "source": [
    "# Multi-Qubit Operations"
   ]
  },
  {
   "cell_type": "markdown",
   "metadata": {},
   "source": [
    "We can just as easily work with more than one qubit"
   ]
  },
  {
   "cell_type": "code",
   "execution_count": 16,
   "metadata": {
    "ExecuteTime": {
     "end_time": "2019-03-15T23:52:37.678337Z",
     "start_time": "2019-03-15T23:52:37.658600Z"
    }
   },
   "outputs": [
    {
     "name": "stdout",
     "output_type": "stream",
     "text": [
      "The quantum state is of dimension: 4\n",
      "The quantum state is of dimension: 16\n",
      "The quantum state is of dimension: 1024\n"
     ]
    }
   ],
   "source": [
    "# Multiple qubits also produce the expected scaling of the state.\n",
    "p = Program(I(0), I(1))\n",
    "wavefunction = wavefunction_simulator.wavefunction(p)\n",
    "print(\"The quantum state is of dimension:\", len(wavefunction.amplitudes))\n",
    "\n",
    "p = Program(I(0), I(1), I(2), I(3))\n",
    "wavefunction = wavefunction_simulator.wavefunction(p)\n",
    "print(\"The quantum state is of dimension:\", len(wavefunction.amplitudes))\n",
    "\n",
    "p = Program()\n",
    "for x in range(10):\n",
    "    p += I(x)\n",
    "wavefunction = wavefunction_simulator.wavefunction(p)\n",
    "print(\"The quantum state is of dimension:\", len(wavefunction.amplitudes))"
   ]
  },
  {
   "cell_type": "code",
   "execution_count": 17,
   "metadata": {
    "ExecuteTime": {
     "end_time": "2019-03-15T23:52:37.715662Z",
     "start_time": "2019-03-15T23:52:37.680977Z"
    }
   },
   "outputs": [
    {
     "name": "stdout",
     "output_type": "stream",
     "text": [
      "{0: array([0, 0, 0, 0, 0, 0, 0, 0, 0, 0]), 1: array([0, 0, 0, 0, 0, 0, 0, 0, 0, 0]), 2: array([0, 0, 0, 0, 0, 0, 0, 0, 0, 0]), 3: array([0, 0, 0, 0, 0, 0, 0, 0, 0, 0]), 4: array([0, 0, 0, 0, 0, 0, 0, 0, 0, 0]), 5: array([0, 0, 0, 0, 0, 0, 0, 0, 0, 0]), 6: array([0, 0, 0, 0, 0, 0, 0, 0, 0, 0]), 7: array([0, 0, 0, 0, 0, 0, 0, 0, 0, 0]), 8: array([0, 0, 0, 0, 0, 0, 0, 0, 0, 0])}\n"
     ]
    }
   ],
   "source": [
    "p = Program(I(0), I(1))\n",
    "results = qc.run_and_measure(p, trials=10)\n",
    "\n",
    "print(results)"
   ]
  },
  {
   "cell_type": "markdown",
   "metadata": {},
   "source": [
    "Here for the first time we use `run` on a compiled executable rather than `run_and_measure`. We've also declared explicit classical memory regions so that we only read out on the qubits we're interested in. "
   ]
  },
  {
   "cell_type": "code",
   "execution_count": 18,
   "metadata": {
    "ExecuteTime": {
     "end_time": "2019-03-15T23:52:37.749545Z",
     "start_time": "2019-03-15T23:52:37.718104Z"
    }
   },
   "outputs": [
    {
     "name": "stdout",
     "output_type": "stream",
     "text": [
      "DECLARE ro BIT[2]\n",
      "H 0\n",
      "X 1\n",
      "MEASURE 0 ro[0]\n",
      "MEASURE 1 ro[1]\n",
      "\n",
      "[[1 1]\n",
      " [0 1]\n",
      " [1 1]\n",
      " [1 1]\n",
      " [1 1]\n",
      " [1 1]\n",
      " [0 1]\n",
      " [0 1]\n",
      " [0 1]\n",
      " [1 1]]\n"
     ]
    }
   ],
   "source": [
    "p = Program()\n",
    "# Declare two bits of classical memory\n",
    "classical_memory = p.declare('ro', 'BIT', 2)\n",
    "\n",
    "p.inst(H(0))\n",
    "p.inst(X(1))\n",
    "\n",
    "# Measure out on qubit 0 and record the results in the 0th index of classical_memory\n",
    "p.inst(MEASURE(0, classical_memory[0]))\n",
    "# Measure out on qubit 1 and record the results in the 1st index of classical_memory\n",
    "p.inst(MEASURE(1, classical_memory[1]))\n",
    "\n",
    "# Print out the Quil code for this Program\n",
    "print(p)\n",
    "\n",
    "# Measure the qubits specified by classical_register (qubits 0 and 1) a number of times\n",
    "p.wrap_in_numshots_loop(shots=10)\n",
    "# Compile and run the Program\n",
    "results = qc.run(qc.compile(p))\n",
    "\n",
    "print(results)"
   ]
  },
  {
   "cell_type": "code",
   "execution_count": 19,
   "metadata": {
    "ExecuteTime": {
     "end_time": "2019-03-15T23:52:37.788516Z",
     "start_time": "2019-03-15T23:52:37.751608Z"
    }
   },
   "outputs": [
    {
     "name": "stdout",
     "output_type": "stream",
     "text": [
      "DECLARE ro BIT[2]\n",
      "H 0\n",
      "X 1\n",
      "MEASURE 0 ro[0]\n",
      "MEASURE 1 ro[1]\n",
      "\n",
      "[[0 1]\n",
      " [0 1]\n",
      " [0 1]\n",
      " [0 1]\n",
      " [0 1]\n",
      " [1 1]\n",
      " [1 1]\n",
      " [1 1]\n",
      " [1 1]\n",
      " [1 1]]\n"
     ]
    }
   ],
   "source": [
    "p = Program()\n",
    "# Declare two bits of classical memory\n",
    "classical_memory = p.declare('ro', 'BIT', 2)\n",
    "\n",
    "p.inst(H(0))\n",
    "p.inst(X(1))\n",
    "\n",
    "# Measure out on qubit 0 and record the results in the 0th index of classical_memory\n",
    "p.inst(MEASURE(0, classical_memory[0]))\n",
    "# Measure out on qubit 1 and record the results in the 1st index of classical_memory\n",
    "p.inst(MEASURE(1, classical_memory[1]))\n",
    "\n",
    "# Print out the Quil code for this Program\n",
    "print(p)\n",
    "\n",
    "# Measure the qubits specified by classical_register (qubits 0 and 1) a number of times\n",
    "p.wrap_in_numshots_loop(shots=10)\n",
    "# Compile and run the Program\n",
    "results = qc.run(qc.compile(p))\n",
    "\n",
    "print(results)"
   ]
  },
  {
   "cell_type": "code",
   "execution_count": 20,
   "metadata": {
    "ExecuteTime": {
     "end_time": "2019-03-15T23:52:37.826786Z",
     "start_time": "2019-03-15T23:52:37.790249Z"
    }
   },
   "outputs": [
    {
     "name": "stdout",
     "output_type": "stream",
     "text": [
      "DECLARE ro BIT[2]\n",
      "H 0\n",
      "X 1\n",
      "MEASURE 0 ro[1]\n",
      "MEASURE 1 ro[0]\n",
      "\n",
      "[[1 1]\n",
      " [1 0]\n",
      " [1 1]\n",
      " [1 1]\n",
      " [1 1]\n",
      " [1 0]\n",
      " [1 0]\n",
      " [1 0]\n",
      " [1 0]\n",
      " [1 0]]\n"
     ]
    }
   ],
   "source": [
    "p = Program()\n",
    "# Declare two bits of classical memory\n",
    "classical_memory = p.declare('ro', 'BIT', 2)\n",
    "\n",
    "p.inst(H(0))\n",
    "p.inst(X(1))\n",
    "\n",
    "# Measure out on qubit 0 and record the results in the 0th index of classical_memory\n",
    "p.inst(MEASURE(0, classical_memory[1]))\n",
    "# Measure out on qubit 1 and record the results in the 1st index of classical_memory\n",
    "p.inst(MEASURE(1, classical_memory[0]))\n",
    "\n",
    "# Print out the Quil code for this Program\n",
    "print(p)\n",
    "\n",
    "# Measure the qubits specified by classical_register (qubits 0 and 1) a number of times\n",
    "p.wrap_in_numshots_loop(shots=10)\n",
    "# Compile and run the Program\n",
    "results = qc.run(qc.compile(p))\n",
    "\n",
    "print(results)"
   ]
  },
  {
   "cell_type": "markdown",
   "metadata": {},
   "source": [
    "Now that we've taken a look at single-qubit operators, let's consider a two-qubit entangling operation, `CNOT`. There are four basis states in the two-qubit space, $\\{\\left|00\\right>,\\left|01\\right>,\\left|10\\right>,\\left|11\\right>\\}$\n",
    "so we'll inspect how `CNOT` acts on each of them. "
   ]
  },
  {
   "cell_type": "code",
   "execution_count": 21,
   "metadata": {
    "ExecuteTime": {
     "end_time": "2019-03-15T23:52:37.859503Z",
     "start_time": "2019-03-15T23:52:37.829177Z"
    }
   },
   "outputs": [
    {
     "name": "stdout",
     "output_type": "stream",
     "text": [
      "CNOT|00> =  (1+0j)|00>\n",
      "With outcome probabilities\n",
      " {'00': 1.0, '01': 0.0, '10': 0.0, '11': 0.0} \n",
      "\n",
      "CNOT|01> =  (1+0j)|11>\n",
      "With outcome probabilities\n",
      " {'00': 0.0, '01': 0.0, '10': 0.0, '11': 1.0} \n",
      "\n",
      "CNOT|10> =  (1+0j)|10>\n",
      "With outcome probabilities\n",
      " {'00': 0.0, '01': 0.0, '10': 1.0, '11': 0.0} \n",
      "\n",
      "CNOT|11> =  (1+0j)|0>\n",
      "With outcome probabilities\n",
      " {'0': 1.0} \n",
      "\n"
     ]
    }
   ],
   "source": [
    "from pyquil.gates import CNOT\n",
    "\n",
    "\n",
    "p = Program(CNOT(0, 1))\n",
    "wavefunction = wavefunction_simulator.wavefunction(p)\n",
    "print(\"CNOT|00> = \", wavefunction)\n",
    "print(\"With outcome probabilities\\n\", wavefunction.get_outcome_probs(), \"\\n\")\n",
    "\n",
    "p = Program(X(0), CNOT(0, 1))\n",
    "wavefunction = wavefunction_simulator.wavefunction(p)\n",
    "print(\"CNOT|01> = \", wavefunction)\n",
    "print(\"With outcome probabilities\\n\", wavefunction.get_outcome_probs(), \"\\n\")\n",
    "\n",
    "p = Program(X(1), CNOT(0, 1))\n",
    "wavefunction = wavefunction_simulator.wavefunction(p)\n",
    "print(\"CNOT|10> = \", wavefunction)\n",
    "print(\"With outcome probabilities\\n\", wavefunction.get_outcome_probs(), \"\\n\")\n",
    "\n",
    "# TODO: replace this program with one that prepares qubits 0 and 1 in the excited state and then \n",
    "# enacts a CNOT gate between them with 0 as the control and 1 as the target qubit\n",
    "p = Program()\n",
    "wavefunction = wavefunction_simulator.wavefunction(p)\n",
    "print(\"CNOT|11> = \", wavefunction)\n",
    "print(\"With outcome probabilities\\n\", wavefunction.get_outcome_probs(), \"\\n\")"
   ]
  },
  {
   "cell_type": "markdown",
   "metadata": {},
   "source": [
    "It looks like `CNOT` left $\\left|00\\right>_{10}=\\left|0\\right>_1\\left|0\\right>_0$ and $\\left|10\\right>_{10}=\\left|1\\right>_1\\left|0\\right>_0$ alone and flipped the bit on first bit, the bit of qubit 1, for the other two, $\\left|11\\right>_{10}=\\left|1\\right>_1\\left|1\\right>_0$ and $\\left|01\\right>_{10}=\\left|0\\right>_1\\left|1\\right>_0$. This is called the controlled-not gate because it only flips the bit on qubit 1, the \"target\" qubit if the \"control\" qubit, qubit 0, is in the excited state. CNOT accepts arguments in the order `control, target`, e.g. `CNOT(control_qubit, target_qubit)`. Notice the endian ordering of the bitstrings we're acting on here. We order them differently for reasons laid out in the [Quil white paper](https://arxiv.org/abs/1608.03355).  "
   ]
  },
  {
   "cell_type": "markdown",
   "metadata": {},
   "source": [
    "# pyQuil odds and ends"
   ]
  },
  {
   "cell_type": "markdown",
   "metadata": {},
   "source": [
    "To actually measure (or more accurately, sample from the wavefunction when we're simulating) rather than just obtain the wavefunction, we have to introduce a `QuantumComputer` object that has methods `run` and `run_and_measure`. "
   ]
  },
  {
   "cell_type": "code",
   "execution_count": 22,
   "metadata": {
    "ExecuteTime": {
     "end_time": "2019-03-15T23:52:37.871764Z",
     "start_time": "2019-03-15T23:52:37.861862Z"
    }
   },
   "outputs": [],
   "source": [
    "from pyquil.api import get_qc\n",
    "qc = get_qc(\"4q-qvm\") # initialize a 4-qubit, fully-connected QVM\n",
    "# dir(qc)  # check out all the attributes and methods you have access to using Python's `dir`"
   ]
  },
  {
   "cell_type": "markdown",
   "metadata": {},
   "source": [
    "If you don't want to think about memory registers or anything fancy, simply use `run_and_measure`, which does it all for you under the hood. "
   ]
  },
  {
   "cell_type": "code",
   "execution_count": 23,
   "metadata": {
    "ExecuteTime": {
     "end_time": "2019-03-15T23:52:37.912496Z",
     "start_time": "2019-03-15T23:52:37.873504Z"
    }
   },
   "outputs": [
    {
     "data": {
      "text/plain": [
       "{0: array([1, 1, 0, 1, 0, 1, 1, 0, 0, 1]),\n",
       " 1: array([0, 0, 0, 0, 0, 0, 0, 0, 0, 0]),\n",
       " 2: array([0, 0, 0, 0, 0, 0, 0, 0, 0, 0]),\n",
       " 3: array([0, 0, 0, 0, 0, 0, 0, 0, 0, 0])}"
      ]
     },
     "execution_count": 23,
     "metadata": {},
     "output_type": "execute_result"
    }
   ],
   "source": [
    "prog = Program(H(0))\n",
    "qc.run_and_measure(prog, trials=10)"
   ]
  },
  {
   "cell_type": "markdown",
   "metadata": {},
   "source": [
    "Let's say that you only wanted to read out on some of these qubits or you wanted to control which memory registers the bit strings the quantum computer reads out are stored to. Here, you'll have to use `run` after declaring memory regions and including explicit `MEASURE` instructions. "
   ]
  },
  {
   "cell_type": "code",
   "execution_count": 24,
   "metadata": {
    "ExecuteTime": {
     "end_time": "2019-03-15T23:52:37.943557Z",
     "start_time": "2019-03-15T23:52:37.914390Z"
    },
    "scrolled": true
   },
   "outputs": [
    {
     "name": "stdout",
     "output_type": "stream",
     "text": [
      "DECLARE ro BIT[1]\n",
      "H 0\n",
      "MEASURE 0 ro[0]\n",
      "\n",
      "[[1]\n",
      " [1]\n",
      " [1]\n",
      " [0]\n",
      " [1]\n",
      " [1]\n",
      " [0]\n",
      " [1]\n",
      " [0]\n",
      " [1]]\n"
     ]
    }
   ],
   "source": [
    "p = Program()\n",
    "# Declare one bit of classical memory\n",
    "classical_register = p.declare('ro', 'BIT', 1)\n",
    "\n",
    "# Measure out on qubit 0 and record the results in the 0th index of classical_register\n",
    "p += Program(H(0)).measure(0, classical_register[0])\n",
    "\n",
    "print(p.out())\n",
    "\n",
    "# Measure the qubits specified by classical_register (qubit 0) a number of times\n",
    "p.wrap_in_numshots_loop(shots=10)\n",
    "\n",
    "# We see probabilistic results of about half 1's and half 0's\n",
    "print(qc.run(qc.compile(p)))"
   ]
  },
  {
   "cell_type": "markdown",
   "metadata": {},
   "source": [
    "You can view the topology of your `QuantumComputer` object using `networkx`. \n",
    "\n",
    "NB: I have no idea why, but sometimes you have to execute this cell twice to make it show up. "
   ]
  },
  {
   "cell_type": "code",
   "execution_count": 25,
   "metadata": {
    "ExecuteTime": {
     "end_time": "2019-03-15T23:52:38.511194Z",
     "start_time": "2019-03-15T23:52:37.945370Z"
    }
   },
   "outputs": [
    {
     "name": "stderr",
     "output_type": "stream",
     "text": [
      "/Users/amy/miniconda3/envs/grove-pyQuil2.0/lib/python3.6/site-packages/networkx/drawing/nx_pylab.py:611: MatplotlibDeprecationWarning: isinstance(..., numbers.Number)\n",
      "  if cb.is_numlike(alpha):\n"
     ]
    }
   ],
   "source": [
    "import networkx as nx\n",
    "\n",
    "qc = get_qc(\"9q-square-qvm\")\n",
    "\n",
    "nx.draw(qc.qubit_topology())"
   ]
  },
  {
   "cell_type": "code",
   "execution_count": 28,
   "metadata": {
    "ExecuteTime": {
     "end_time": "2019-03-15T23:52:48.496595Z",
     "start_time": "2019-03-15T23:52:48.363559Z"
    }
   },
   "outputs": [
    {
     "data": {
      "image/png": "[encoded data removed]",
      "text/plain": [
       "<Figure size 432x288 with 1 Axes>"
      ]
     },
     "metadata": {},
     "output_type": "display_data"
    }
   ],
   "source": [
    "qc = get_qc(\"5q-qvm\")\n",
    "\n",
    "nx.draw(qc.qubit_topology())"
   ]
  }
 ],
 "metadata": {
  "kernelspec": {
   "display_name": "Python 3",
   "language": "python",
   "name": "python3"
  },
  "language_info": {
   "codemirror_mode": {
    "name": "ipython",
    "version": 3
   },
   "file_extension": ".py",
   "mimetype": "text/x-python",
   "name": "python",
   "nbconvert_exporter": "python",
   "pygments_lexer": "ipython3",
   "version": "3.6.8"
  },
  "toc": {
   "nav_menu": {},
   "number_sections": true,
   "sideBar": true,
   "skip_h1_title": false,
   "title_cell": "Table of Contents",
   "title_sidebar": "Contents",
   "toc_cell": false,
   "toc_position": {},
   "toc_section_display": true,
   "toc_window_display": false
  },
  "varInspector": {
   "cols": {
    "lenName": 16,
    "lenType": 16,
    "lenVar": 40
   },
   "kernels_config": {
    "python": {
     "delete_cmd_postfix": "",
     "delete_cmd_prefix": "del ",
     "library": "var_list.py",
     "varRefreshCmd": "print(var_dic_list())"
    },
    "r": {
     "delete_cmd_postfix": ") ",
     "delete_cmd_prefix": "rm(",
     "library": "var_list.r",
     "varRefreshCmd": "cat(var_dic_list()) "
    }
   },
   "types_to_exclude": [
    "module",
    "function",
    "builtin_function_or_method",
    "instance",
    "_Feature"
   ],
   "window_display": false
  }
 },
 "nbformat": 4,
 "nbformat_minor": 2
}
