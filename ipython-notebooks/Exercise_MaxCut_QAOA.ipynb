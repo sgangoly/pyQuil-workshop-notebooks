{
 "cells": [
  {
   "cell_type": "code",
   "execution_count": null,
   "metadata": {},
   "outputs": [],
   "source": [
    "import networkx as nx\n",
    "import numpy as np\n",
    "from pyquil import Program, get_qc\n",
    "from pyquil.api import WavefunctionSimulator\n",
    "from pyquil.gates import *\n",
    "from pyquil.paulis import *"
   ]
  },
  {
   "cell_type": "code",
   "execution_count": null,
   "metadata": {},
   "outputs": [],
   "source": [
    "def apply_hadamards(L):\n",
    "    '''\n",
    "    Apply global Hadamard across all qubits contained in input list\n",
    "\n",
    "    :param L list: list of qubits\n",
    "    :return Program: pyQuil Program object applying the Hadamard gate to all input qubits\n",
    "    '''\n",
    "    # TODO"
   ]
  },
  {
   "cell_type": "code",
   "execution_count": null,
   "metadata": {},
   "outputs": [],
   "source": [
    "def pauli_sum(L):\n",
    "    '''\n",
    "    Create a sum of Pauli-X operators over the qubits contained in the input list\n",
    "\n",
    "    :param L list: list of qubits\n",
    "    :return PauliSum: PauliSum of Pauli-X operators on the input qubits\n",
    "    '''\n",
    "    # TODO"
   ]
  },
  {
   "cell_type": "code",
   "execution_count": null,
   "metadata": {},
   "outputs": [],
   "source": [
    "def pauli_sum_maxcut(graph):\n",
    "    '''\n",
    "    Create a PauliSum corresponding to the MaxCut cost function\n",
    "\n",
    "    :param graph Graph: NetworkX Graph object\n",
    "    :return PauliSum: PauliSum object corresponding to MaxCut cost/objective function\n",
    "    '''\n",
    "    paulisum = 0\n",
    "    # graph.adj is a dict with key: node, value: neighbors dict\n",
    "    for i, nbrs in graph.adj.items():\n",
    "        # nbrs is a dict itself with key: neighboring node, value: edge attributes dict\n",
    "        # the weight of the edge can be extracted from eattr['weight']\n",
    "        for j, eattr in nbrs.items():\n",
    "            # add up contribution from current edge to paulisum\n",
    "            # TODO\n",
    "\n",
    "    paulisum *= 0.5\n",
    "    return paulisum"
   ]
  },
  {
   "cell_type": "code",
   "execution_count": null,
   "metadata": {},
   "outputs": [],
   "source": [
    "def exponentiate_pauli_sum(paulisum, angle):\n",
    "    '''\n",
    "    Exponentiate a sum of Pauli operators to produce a unitary map\n",
    "\n",
    "    :param paulisum PauliSum: PauliSum object containing the sum of Pauli operators\n",
    "    :param angle float: specifying the coefficient of the paulisum in the exponential, with the convention\n",
    "            e ^ (-i * angle * paulisum)\n",
    "    :return Program: pyQuil program applying the exponentiated map\n",
    "    '''\n",
    "    # TODO"
   ]
  },
  {
   "cell_type": "code",
   "execution_count": null,
   "metadata": {},
   "outputs": [],
   "source": [
    "def run_qaoa(graph, beta, gamma):\n",
    "    '''\n",
    "    Run the QAOA prescription for the given graph and two angles\n",
    "\n",
    "    :param graph Graph: NetworkX Graph object\n",
    "    :param beta float: angle in [-pi, pi] range, appears in the mixer term\n",
    "    :param gamma float: angle in [0, 2*pi] range, appears in the MaxCut cost term\n",
    "    :return Program: pyQuil Program corresponding to the QAOA prescription in Eq (8) of problem sheet\n",
    "    '''\n",
    "    # check that values for angles are within valid ranges\n",
    "    assert (beta >= -np.pi) and (beta <= np.pi), \"beta is not within the range [-pi, pi]\"\n",
    "    assert (gamma >= 0) and (gamma <= 2*np.pi), \"gamma is not within the range [0, 2*pi]\"\n",
    "    # create a list of qubits\n",
    "    list_qubits = list(graph.nodes)\n",
    "    # initialize program\n",
    "    p = Program()\n",
    "    # create equal-probability superposition as the starting state\n",
    "    p += apply_hadamards(list_qubits)\n",
    "    # apply U(gamma)\n",
    "    paulisum_gamma = pauli_sum_maxcut(graph)\n",
    "    p += exponentiate_pauli_sum(paulisum_gamma, gamma)\n",
    "    # apply V(beta)\n",
    "    paulisum_beta = pauli_sum(list_qubits)\n",
    "    p += exponentiate_pauli_sum(paulisum_beta, beta)\n",
    "\n",
    "    return p"
   ]
  },
  {
   "cell_type": "code",
   "execution_count": null,
   "metadata": {},
   "outputs": [],
   "source": [
    "def create_simple_two_node_graph():\n",
    "    '''\n",
    "    Simple two-node graph with edge weight = 1\n",
    "\n",
    "    :return Graph: NetworkX Graph object with 2 nodes and edge weight=1\n",
    "    '''\n",
    "    G = nx.Graph()\n",
    "    G.add_nodes_from(range(2))\n",
    "    weighted_edges_list = [(0, 1, 1)]\n",
    "    G.add_weighted_edges_from(weighted_edges_list)\n",
    "    return G"
   ]
  },
  {
   "cell_type": "code",
   "execution_count": null,
   "metadata": {},
   "outputs": [],
   "source": [
    "def demo_optimize_angles():\n",
    "    '''\n",
    "    Demo program for optimizing angles for a simple 2-node graph\n",
    "\n",
    "    :return tuple: optimal values for (beta, gamma)\n",
    "    '''\n",
    "    granularity = 2*np.pi/16.\n",
    "    beta_range = np.arange(-np.pi, np.pi, granularity)\n",
    "    gamma_range = np.arange(0, 2*np.pi, granularity)\n",
    "    qvm = WavefunctionSimulator()\n",
    "    graph = create_simple_two_node_graph()\n",
    "\n",
    "    d_angles = {}\n",
    "    for beta in beta_range:\n",
    "        for gamma in gamma_range:\n",
    "            prep_program = run_qaoa(graph, beta, gamma)\n",
    "            hamiltonian = pauli_sum_maxcut(graph)\n",
    "            expectation = np.array(qvm.expectation(prep_prog=prep_program, pauli_terms=hamiltonian))\n",
    "            d_angles[(beta, gamma)] = expectation\n",
    "\n",
    "    print (\"Optimal values for (beta, gamma) for simple 2-node graph MAXCUT problem: \", max(d_angles, key=d_angles.get))"
   ]
  },
  {
   "cell_type": "code",
   "execution_count": null,
   "metadata": {},
   "outputs": [],
   "source": [
    "demo_optimize_angles()"
   ]
  },
  {
   "cell_type": "code",
   "execution_count": null,
   "metadata": {},
   "outputs": [],
   "source": [
    "# create wavefunction for optimal angles\n",
    "beta, gamma = -2.748893571891069, 1.5707963267948966\n",
    "graph = create_simple_two_node_graph()\n",
    "prog = run_qaoa(graph, beta, gamma)\n",
    "wfn_sim = WavefunctionSimulator()\n",
    "wfn = wfn_sim.wavefunction(prog)\n",
    "print (wfn)"
   ]
  },
  {
   "cell_type": "code",
   "execution_count": null,
   "metadata": {},
   "outputs": [],
   "source": [
    "# check that we have probability 1 of obtaining correct solution\n",
    "# and probability 0 of obtaining incorrect solution\n",
    "np.testing.assert_almost_equal(wfn.get_outcome_probs()['00'], 0.0)\n",
    "np.testing.assert_almost_equal(wfn.get_outcome_probs()['01'], 0.5)\n",
    "np.testing.assert_almost_equal(wfn.get_outcome_probs()['10'], 0.5)\n",
    "np.testing.assert_almost_equal(wfn.get_outcome_probs()['11'], 0.0)"
   ]
  }
 ],
 "metadata": {
  "kernelspec": {
   "display_name": "Python 3",
   "language": "python",
   "name": "python3"
  },
  "language_info": {
   "codemirror_mode": {
    "name": "ipython",
    "version": 3
   },
   "file_extension": ".py",
   "mimetype": "text/x-python",
   "name": "python",
   "nbconvert_exporter": "python",
   "pygments_lexer": "ipython3",
   "version": "3.6.4"
  },
  "toc": {
   "nav_menu": {},
   "number_sections": true,
   "sideBar": true,
   "skip_h1_title": false,
   "title_cell": "Table of Contents",
   "title_sidebar": "Contents",
   "toc_cell": false,
   "toc_position": {},
   "toc_section_display": true,
   "toc_window_display": false
  },
  "varInspector": {
   "cols": {
    "lenName": 16,
    "lenType": 16,
    "lenVar": 40
   },
   "kernels_config": {
    "python": {
     "delete_cmd_postfix": "",
     "delete_cmd_prefix": "del ",
     "library": "var_list.py",
     "varRefreshCmd": "print(var_dic_list())"
    },
    "r": {
     "delete_cmd_postfix": ") ",
     "delete_cmd_prefix": "rm(",
     "library": "var_list.r",
     "varRefreshCmd": "cat(var_dic_list()) "
    }
   },
   "types_to_exclude": [
    "module",
    "function",
    "builtin_function_or_method",
    "instance",
    "_Feature"
   ],
   "window_display": false
  }
 },
 "nbformat": 4,
 "nbformat_minor": 2
}
