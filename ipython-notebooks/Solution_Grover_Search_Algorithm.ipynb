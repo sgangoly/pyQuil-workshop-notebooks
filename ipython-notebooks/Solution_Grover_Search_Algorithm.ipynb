{
 "cells": [
  {
   "cell_type": "code",
   "execution_count": 1,
   "metadata": {},
   "outputs": [],
   "source": [
    "%matplotlib inline\n",
    "import matplotlib.pyplot as plt\n",
    "import itertools\n",
    "import numpy as np\n",
    "import pyquil.api as api\n",
    "from pyquil.gates import *\n",
    "from pyquil.quil import Program"
   ]
  },
  {
   "cell_type": "markdown",
   "metadata": {},
   "source": [
    "First, let's write a function that returns a list of all the possible bit-strings in increasing lexicographical order that one can obtain from measuring $n$ qubits."
   ]
  },
  {
   "cell_type": "code",
   "execution_count": 2,
   "metadata": {},
   "outputs": [],
   "source": [
    "def qubit_strings(n):\n",
    "    qubit_strings = []\n",
    "    for q in itertools.product(['0', '1'], repeat=n):\n",
    "        qubit_strings.append(''.join(q))\n",
    "    return qubit_strings"
   ]
  },
  {
   "cell_type": "code",
   "execution_count": 3,
   "metadata": {},
   "outputs": [],
   "source": [
    "assert qubit_strings(3) == ['000', '001', '010', '011', '100', '101', '110', '111']"
   ]
  },
  {
   "cell_type": "markdown",
   "metadata": {},
   "source": [
    "Next, let's construct the black-box map $f:\\{0, 1\\}^n \\rightarrow \\{0, 1\\}$ that outputs 1 when the input is the $n$-bitstring to be found, and 0 otherwise."
   ]
  },
  {
   "cell_type": "code",
   "execution_count": 4,
   "metadata": {},
   "outputs": [],
   "source": [
    "def black_box_map(n, q_find):\n",
    "    \"\"\"\n",
    "    Black-box map, f(x), on n qubits such that f(q_find) = 1, and otherwise = 0\n",
    "    \n",
    "    :return: dict implementing the black-box map\n",
    "    \"\"\"\n",
    "    assert n == len(q_find)\n",
    "    qubs = qubit_strings(n)\n",
    "    d_blackbox = {q: 1 if q == q_find else 0 for q in qubs}\n",
    "    return d_blackbox"
   ]
  },
  {
   "cell_type": "code",
   "execution_count": 5,
   "metadata": {},
   "outputs": [],
   "source": [
    "assert black_box_map(3, '001') == {'000': 0, '001': 1, '010': 0, '011': 0, '100': 0, '101': 0, '110': 0, '111': 0}"
   ]
  },
  {
   "cell_type": "markdown",
   "metadata": {},
   "source": [
    "Given an input $n$-bitstring, write a function that will create a ket as a numpy array of shape $(2^n,)$<br> (Hint: numpy.kron is your friend here)"
   ]
  },
  {
   "cell_type": "code",
   "execution_count": 6,
   "metadata": {},
   "outputs": [],
   "source": [
    "def qubit_ket(qub_string):\n",
    "    \"\"\"\n",
    "    Form a basis ket out of n-bit string specified by the input 'qub_string', e.g.\n",
    "    '001' -> |001>\n",
    "    \n",
    "    :return: numpy array of shape (2^n,) , where n is the length of the input bit-string\n",
    "    \"\"\"\n",
    "    e0 = np.array([1, 0])\n",
    "    e1 = np.array([0, 1])\n",
    "    d_qubstring = {'0': e0, '1': e1}\n",
    "\n",
    "    # initialize ket\n",
    "    ket = d_qubstring[qub_string[0]]\n",
    "    for i in range(1, len(qub_string)):\n",
    "        ket = np.kron(ket, d_qubstring[qub_string[i]])\n",
    "    \n",
    "    return ket"
   ]
  },
  {
   "cell_type": "code",
   "execution_count": 7,
   "metadata": {},
   "outputs": [],
   "source": [
    "np.testing.assert_array_equal(qubit_ket('01'), np.array([0, 1, 0, 0]))"
   ]
  },
  {
   "cell_type": "code",
   "execution_count": 8,
   "metadata": {},
   "outputs": [],
   "source": [
    "assert qubit_ket('0101').shape == (2**4,)\n",
    "assert qubit_ket('110101').shape == (2**6,)"
   ]
  },
  {
   "cell_type": "markdown",
   "metadata": {},
   "source": [
    "Given an input $n$-bitstring, write a function that will create a projection operator as a numpy array of shape $(2^n, 2^n)$<br> (Hint: numpy.kron is your friend here)"
   ]
  },
  {
   "cell_type": "code",
   "execution_count": 9,
   "metadata": {},
   "outputs": [],
   "source": [
    "def projection_op(qub_string):\n",
    "    \"\"\"\n",
    "    Creates a projection operator out of the basis element specified by 'qub_string', e.g.\n",
    "    '101' -> |101> <101|\n",
    "    \n",
    "    :return: numpy array of shape (2^n, 2^n), where n is the length of the input bit-string\n",
    "    \"\"\"\n",
    "    ket = qubit_ket(qub_string)\n",
    "    proj = np.outer(ket, ket)   # all entries real, so no complex conjugation necessary\n",
    "    return proj"
   ]
  },
  {
   "cell_type": "code",
   "execution_count": 10,
   "metadata": {},
   "outputs": [],
   "source": [
    "np.testing.assert_array_equal(projection_op('01'), np.array([[0, 0, 0, 0],\n",
    "                                                             [0, 1, 0, 0],\n",
    "                                                             [0, 0, 0, 0],\n",
    "                                                             [0, 0, 0, 0]]))"
   ]
  },
  {
   "cell_type": "code",
   "execution_count": 11,
   "metadata": {},
   "outputs": [],
   "source": [
    "assert projection_op('101').shape == (2**3, 2**3)\n",
    "assert projection_op('1011010').shape == (2**7, 2**7)"
   ]
  },
  {
   "cell_type": "markdown",
   "metadata": {},
   "source": [
    "Construct the unitary representation of the black box operator. Note that the quantum black box that achieves the transformation<br>\n",
    "<br>\n",
    "$$U_{f(\\vec{x})} \\left\\vert \\vec{x} \\right\\rangle \\left\\vert y \\right\\rangle = \\left\\vert \\vec{x} \\right\\rangle \\left\\vert y \\oplus f(\\vec{x}) \\right\\rangle$$\n",
    "<br>\n",
    "can be written in the following explicit form <br>\n",
    "<br>\n",
    "$$U_{f(\\vec{x})} = \\sum_{\\vec{x} = 0}^{2^{n} - 1} \\left\\vert \\vec{x} \\right\\rangle \\left\\langle \\vec{x} \\right\\vert \\otimes \\left[ I + f(\\vec{x}) [X - I]\\right]$$"
   ]
  },
  {
   "cell_type": "code",
   "execution_count": 12,
   "metadata": {},
   "outputs": [],
   "source": [
    "def black_box(n, q_find):\n",
    "    \"\"\"\n",
    "    Unitary representation of the black-box operator on (n+1)-qubits\n",
    "    \n",
    "    :return: numpy array of shape (2^(n+1), 2^(n+1))\n",
    "    \"\"\"\n",
    "    d_bb = black_box_map(n, q_find)\n",
    "    # initialize unitary matrix\n",
    "    N = 2**(n+1)\n",
    "    unitary_rep = np.zeros(shape=(N, N))\n",
    "    # populate unitary matrix\n",
    "    for k, v in d_bb.items():\n",
    "        unitary_rep += np.kron(projection_op(k), np.eye(2) + v*(-np.eye(2) + np.array([[0, 1], [1, 0]])))\n",
    "    return unitary_rep"
   ]
  },
  {
   "cell_type": "code",
   "execution_count": 13,
   "metadata": {},
   "outputs": [],
   "source": [
    "# black_box(2, '01')\n",
    "np.testing.assert_array_equal(black_box(2, '01'), np.array([[1., 0., 0., 0., 0., 0., 0., 0.],\n",
    "                                                            [0., 1., 0., 0., 0., 0., 0., 0.],\n",
    "                                                            [0., 0., 0., 1., 0., 0., 0., 0.],\n",
    "                                                            [0., 0., 1., 0., 0., 0., 0., 0.],\n",
    "                                                            [0., 0., 0., 0., 1., 0., 0., 0.],\n",
    "                                                            [0., 0., 0., 0., 0., 1., 0., 0.],\n",
    "                                                            [0., 0., 0., 0., 0., 0., 1., 0.],\n",
    "                                                            [0., 0., 0., 0., 0., 0., 0., 1.]]))"
   ]
  },
  {
   "cell_type": "code",
   "execution_count": 14,
   "metadata": {},
   "outputs": [],
   "source": [
    "assert black_box(7, '1011010').shape == (2**(7+1), 2**(7+1))"
   ]
  },
  {
   "cell_type": "markdown",
   "metadata": {},
   "source": [
    "Construct the Grover operator $2 \\vert \\psi \\rangle \\langle \\psi \\vert - I$, where $\\vert \\psi \\rangle = H^{\\otimes n} \\vert 0 \\rangle$."
   ]
  },
  {
   "cell_type": "code",
   "execution_count": 15,
   "metadata": {},
   "outputs": [],
   "source": [
    "def grov_op(n):\n",
    "    \"\"\"\n",
    "    The operator 2|psi><psi| - I , where |psi> = H^n |0>\n",
    "    \n",
    "    :return: numpy array of shape (2^n, 2^n)\n",
    "    \"\"\"\n",
    "    qubs = qubit_strings(n)\n",
    "    N = 2**n\n",
    "    proj_psipsi = np.zeros(shape=(N, N))\n",
    "    for s_ket in qubs:\n",
    "        ket = qubit_ket(s_ket)\n",
    "        for s_bra in qubs:\n",
    "            bra = qubit_ket(s_bra)\n",
    "            proj_psipsi += np.outer(ket, bra)\n",
    "    # add normalization factor\n",
    "    proj_psipsi *= 1/N\n",
    "\n",
    "    return 2*proj_psipsi - np.eye(N)"
   ]
  },
  {
   "cell_type": "code",
   "execution_count": 16,
   "metadata": {},
   "outputs": [],
   "source": [
    "np.testing.assert_array_equal(grov_op(2), np.array([[-0.5,  0.5,  0.5,  0.5],\n",
    "                                                   [ 0.5, -0.5,  0.5,  0.5],\n",
    "                                                   [ 0.5,  0.5, -0.5,  0.5],\n",
    "                                                   [ 0.5,  0.5,  0.5, -0.5]]))"
   ]
  },
  {
   "cell_type": "code",
   "execution_count": 17,
   "metadata": {},
   "outputs": [],
   "source": [
    "assert grov_op(4).shape == (2**4, 2**4)"
   ]
  },
  {
   "cell_type": "markdown",
   "metadata": {},
   "source": [
    "Apply Grover's algorithm to search a bitstring."
   ]
  },
  {
   "cell_type": "code",
   "execution_count": 18,
   "metadata": {},
   "outputs": [],
   "source": [
    "# Specify an item to find\n",
    "findme = '1011'"
   ]
  },
  {
   "cell_type": "code",
   "execution_count": 19,
   "metadata": {},
   "outputs": [
    {
     "name": "stdout",
     "output_type": "stream",
     "text": [
      "The most probable outcome is: |1011>\n"
     ]
    },
    {
     "data": {
      "image/png": "[encoded data removed]",
      "text/plain": [
       "<Figure size 576x432 with 1 Axes>"
      ]
     },
     "metadata": {},
     "output_type": "display_data"
    }
   ],
   "source": [
    "# number of qubits (excluding the ancilla)\n",
    "n = len(findme)\n",
    "# number of iterations\n",
    "num_iters = max(1, int(np.sqrt(2**(n-2))))\n",
    "\n",
    "p = Program()\n",
    "# define blackbox operator (see above) \n",
    "p.defgate(\"U_bb\", black_box(n, findme))\n",
    "# define the U_grov (see above)\n",
    "p.defgate(\"U_grov\", grov_op(n))\n",
    "# Apply equal superposition state\n",
    "for q in range(1, n+1):\n",
    "    p.inst(H(q))\n",
    "# Make 0th qubit an eigenstate of the black-box operator, i.e.\n",
    "# create the state 1/(sqrt(2)) * (|0> - |1>) on the 0th qubit\n",
    "p.inst(H(0))\n",
    "p.inst(Z(0))\n",
    "    \n",
    "# Grover iterations\n",
    "for _ in range(num_iters):\n",
    "    # apply oracle\n",
    "    p.inst((\"U_bb\",) + tuple(range(n+1)[::-1]))\n",
    "    # apply H . U_perp . H\n",
    "    p.inst((\"U_grov\",) + tuple(range(1, n+1)[::-1]))\n",
    "    \n",
    "# measure and discard ancilla\n",
    "p.measure(0)\n",
    "    \n",
    "# run program, and investigate wavefunction\n",
    "qvm = api.WavefunctionSimulator()\n",
    "wavefunc = qvm.wavefunction(p)\n",
    "outcome_probs = wavefunc.get_outcome_probs()\n",
    "print (\"The most probable outcome is: |%s>\" % (max(outcome_probs, key=outcome_probs.get)[:-1]))\n",
    "\n",
    "# histogram of outcome probs\n",
    "plt.figure(figsize=(8, 6))\n",
    "plt.bar([i[:-1] for i in outcome_probs.keys()], outcome_probs.values())\n",
    "plt.show()"
   ]
  }
 ],
 "metadata": {
  "kernelspec": {
   "display_name": "Python 3",
   "language": "python",
   "name": "python3"
  },
  "language_info": {
   "codemirror_mode": {
    "name": "ipython",
    "version": 3
   },
   "file_extension": ".py",
   "mimetype": "text/x-python",
   "name": "python",
   "nbconvert_exporter": "python",
   "pygments_lexer": "ipython3",
   "version": "3.6.8"
  },
  "toc": {
   "nav_menu": {},
   "number_sections": true,
   "sideBar": true,
   "skip_h1_title": false,
   "title_cell": "Table of Contents",
   "title_sidebar": "Contents",
   "toc_cell": false,
   "toc_position": {},
   "toc_section_display": true,
   "toc_window_display": false
  },
  "varInspector": {
   "cols": {
    "lenName": 16,
    "lenType": 16,
    "lenVar": 40
   },
   "kernels_config": {
    "python": {
     "delete_cmd_postfix": "",
     "delete_cmd_prefix": "del ",
     "library": "var_list.py",
     "varRefreshCmd": "print(var_dic_list())"
    },
    "r": {
     "delete_cmd_postfix": ") ",
     "delete_cmd_prefix": "rm(",
     "library": "var_list.r",
     "varRefreshCmd": "cat(var_dic_list()) "
    }
   },
   "types_to_exclude": [
    "module",
    "function",
    "builtin_function_or_method",
    "instance",
    "_Feature"
   ],
   "window_display": false
  }
 },
 "nbformat": 4,
 "nbformat_minor": 2
}
