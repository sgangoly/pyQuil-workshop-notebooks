{
 "cells": [
  {
   "cell_type": "code",
   "execution_count": 2,
   "metadata": {
    "ExecuteTime": {
     "end_time": "2019-02-26T17:33:06.032940Z",
     "start_time": "2019-02-26T17:33:05.476603Z"
    }
   },
   "outputs": [],
   "source": [
    "from pyquil import Program, get_qc\n",
    "from pyquil.gates import *\n",
    "import numpy as np"
   ]
  },
  {
   "cell_type": "code",
   "execution_count": 3,
   "metadata": {
    "ExecuteTime": {
     "end_time": "2019-02-26T17:33:06.048152Z",
     "start_time": "2019-02-26T17:33:06.036091Z"
    }
   },
   "outputs": [],
   "source": [
    "qvm = get_qc('9q-generic-qvm')"
   ]
  },
  {
   "cell_type": "markdown",
   "metadata": {},
   "source": [
    "### Bit Flip"
   ]
  },
  {
   "cell_type": "markdown",
   "metadata": {},
   "source": [
    "We first explore a simple \"bit flip\" noise model -- with some probability, the qubit $\\vert 0 \\rangle$ flips to $\\vert 1 \\rangle$. In other words, we are modeling the channel<br>\n",
    "<br>\n",
    "$$ \\rho \\rightarrow p \\left( X \\rho X^{\\dagger}\\right) + (1-p) \\left( I \\rho I^{\\dagger} \\right)$$<br>\n",
    "where $\\rho = \\vert 0 \\rangle \\langle 0 \\vert$."
   ]
  },
  {
   "cell_type": "code",
   "execution_count": 4,
   "metadata": {
    "ExecuteTime": {
     "end_time": "2019-02-26T17:33:06.058824Z",
     "start_time": "2019-02-26T17:33:06.051865Z"
    }
   },
   "outputs": [],
   "source": [
    "def kraus_ops_bit_flip(prob):\n",
    "    \"\"\"\n",
    "    :param prob: probability of bit-flip\n",
    "    :return: list of Kraus operators\n",
    "    \"\"\"\n",
    "    # define flip (X) and not flip (I) Kraus operators\n",
    "    I_ = np.sqrt(1 - prob) * np.array([[1, 0], [0, 1]])\n",
    "    X_ = np.sqrt(prob) * np.array([[0, 1], [1, 0]])\n",
    "    return [I_, X_]"
   ]
  },
  {
   "cell_type": "code",
   "execution_count": 5,
   "metadata": {
    "ExecuteTime": {
     "end_time": "2019-02-26T17:33:06.445073Z",
     "start_time": "2019-02-26T17:33:06.060809Z"
    }
   },
   "outputs": [
    {
     "name": "stdout",
     "output_type": "stream",
     "text": [
      "Measured '0':  0 / 1000  times\n",
      "Measured '1':  1000 / 1000  times\n"
     ]
    }
   ],
   "source": [
    "# pick probability of bit flip, and num_shots\n",
    "prob = 0.3\n",
    "num_shots = 1000\n",
    "\n",
    "# obtain Kraus operators associated with the channel\n",
    "kraus_ops = kraus_ops_bit_flip(prob)\n",
    "\n",
    "# create Program with noisy gates\n",
    "p = Program()\n",
    "p.declare(\"ro\", \"BIT\", 1)\n",
    "p.inst(X(0))\n",
    "p.define_noisy_gate(\"X\", [0], kraus_ops)\n",
    "p.measure(0, \"ro\")\n",
    "p.wrap_in_numshots_loop(shots=1000)\n",
    "\n",
    "# obtain and print out the results\n",
    "results = qvm.run(qvm.compile(p))\n",
    "print (\"Measured '0': \", len([i for i in results if i == [0]]), \"/\", num_shots, \" times\")\n",
    "print (\"Measured '1': \", len([i for i in results if i == [1]]), \"/\", num_shots, \" times\")"
   ]
  },
  {
   "cell_type": "markdown",
   "metadata": {},
   "source": [
    "### Amplitude Damping"
   ]
  },
  {
   "cell_type": "markdown",
   "metadata": {},
   "source": [
    "Here, we model a noisy process where an excited $\\vert 1 \\rangle$ randomly decays to the $\\vert 0 \\rangle$ state with some probability. In other words, we model the channel<br>\n",
    "<br>\n",
    "$$ \\rho \\rightarrow \\left( K_{1} \\rho K_{1}^{\\dagger}\\right) + \\left( K_{2} \\rho K_{2}^{\\dagger} \\right)$$<br>\n",
    "where $\\rho = \\vert 1 \\rangle \\langle 1 \\vert$, and <br>\n",
    "$$K_{1} = \\left( \n",
    "\\begin{array}{cc}\n",
    "1 & 0 \\\\\n",
    "0 & \\sqrt{1-p}\n",
    "\\end{array}\n",
    "\\right) ,\n",
    "\\quad\\quad\\quad\n",
    "K_{2} = \\left( \n",
    "\\begin{array}{cc}\n",
    "0 & \\sqrt{p} \\\\\n",
    "0 & 0\n",
    "\\end{array}\n",
    "\\right) \n",
    "$$"
   ]
  },
  {
   "cell_type": "code",
   "execution_count": 6,
   "metadata": {
    "ExecuteTime": {
     "end_time": "2019-02-26T17:33:06.452272Z",
     "start_time": "2019-02-26T17:33:06.446870Z"
    }
   },
   "outputs": [],
   "source": [
    "def random_unitary():\n",
    "    \"\"\"\n",
    "    :return: array of shape (2, 2) representing random unitary matrix drawn from Haar measure\n",
    "    \"\"\"\n",
    "    # draw complex matrix from Ginibre ensemble\n",
    "    z = np.random.randn(2, 2) + 1j * np.random.randn(2, 2)\n",
    "    # QR decompose this complex matrix\n",
    "    q, r = np.linalg.qr(z)\n",
    "    # make this decomposition unique\n",
    "    d = np.diagonal(r)\n",
    "    l = np.diag(d) / np.abs(d)\n",
    "    return np.matmul(q, l)"
   ]
  },
  {
   "cell_type": "code",
   "execution_count": 7,
   "metadata": {
    "ExecuteTime": {
     "end_time": "2019-02-26T17:33:06.458572Z",
     "start_time": "2019-02-26T17:33:06.454540Z"
    }
   },
   "outputs": [],
   "source": [
    "def kraus_ops_amp_damping(prob):\n",
    "    \"\"\"\n",
    "    :param prob: probability of |1> to |0> decay\n",
    "    :return: list of Kraus operators\n",
    "    \"\"\"\n",
    "    # define imperfect identity (I_) and decay (D_) Kraus operators\n",
    "    I_ = np.array([[1, 0], [0, np.sqrt(1 - prob)]])\n",
    "    D_ = np.array([[0, np.sqrt(prob)], [0, 0]])\n",
    "    return [I_, D_]"
   ]
  },
  {
   "cell_type": "code",
   "execution_count": 8,
   "metadata": {
    "ExecuteTime": {
     "end_time": "2019-02-26T17:33:06.575840Z",
     "start_time": "2019-02-26T17:33:06.460377Z"
    }
   },
   "outputs": [
    {
     "name": "stdout",
     "output_type": "stream",
     "text": [
      "Measured '0':  947 / 1000  times\n",
      "Measured '1':  53 / 1000  times\n"
     ]
    }
   ],
   "source": [
    "# pick probability of random decay, and num_shots\n",
    "prob = 0.3\n",
    "num_shots = 1000\n",
    "\n",
    "# obtain Kraus operators associated with the channel\n",
    "kraus_ops = kraus_ops_amp_damping(prob)\n",
    "\n",
    "# create Program with noisy gates\n",
    "p = Program()\n",
    "p.declare(\"ro\", \"BIT\", 1)\n",
    "p.inst(X(0))\n",
    "p.defgate(\"DummyGate\", random_unitary())\n",
    "p.inst((\"DummyGate\", 0))\n",
    "p.define_noisy_gate(\"DummyGate\", [0], kraus_ops)\n",
    "p.measure(0, \"ro\")\n",
    "p.wrap_in_numshots_loop(shots=1000)\n",
    "\n",
    "# obtain and print out the results\n",
    "results = qvm.run(qvm.compile(p))\n",
    "print (\"Measured '0': \", len([i for i in results if i == [0]]), \"/\", num_shots, \" times\")\n",
    "print (\"Measured '1': \", len([i for i in results if i == [1]]), \"/\", num_shots, \" times\")"
   ]
  },
  {
   "cell_type": "markdown",
   "metadata": {},
   "source": [
    "### Dephasing"
   ]
  },
  {
   "cell_type": "markdown",
   "metadata": {},
   "source": [
    "Here, we model a noisy process where the relative phase between $\\vert 0 \\rangle$ and $\\vert 1 \\rangle$ goes from $+1$ to $-1$ with some probability. We are essentially modeling the channel<br>\n",
    "<br>\n",
    "$$ \\rho \\rightarrow p \\left( Z \\rho Z^{\\dagger} \\right) + (1 - p) \\left( I \\rho I^{\\dagger}\\right)$$<br>\n",
    "where $\\rho = \\vert + \\rangle \\langle + \\vert$, s.t. $\\vert + \\rangle = (1/2) \\left( \\vert 0 \\rangle + \\vert 1 \\rangle\\right)$."
   ]
  },
  {
   "cell_type": "code",
   "execution_count": 9,
   "metadata": {
    "ExecuteTime": {
     "end_time": "2019-02-26T17:33:06.587410Z",
     "start_time": "2019-02-26T17:33:06.579742Z"
    }
   },
   "outputs": [],
   "source": [
    "def kraus_ops_dephasing(prob):\n",
    "    \"\"\"\n",
    "    :param prob: probability of applying Z operator\n",
    "    :return: list of Kraus operators\n",
    "    \"\"\"\n",
    "    # define probabilistic identity (I_) and Z (Z_) Kraus operators\n",
    "    I_ = np.sqrt(1 - prob) * np.array([[1, 0], [0, 1]])\n",
    "    Z_ = np.sqrt(prob) * np.array([[1, 0], [0, -1]])\n",
    "    return [I_, Z_]"
   ]
  },
  {
   "cell_type": "code",
   "execution_count": 10,
   "metadata": {
    "ExecuteTime": {
     "end_time": "2019-02-26T17:33:06.672482Z",
     "start_time": "2019-02-26T17:33:06.591278Z"
    }
   },
   "outputs": [
    {
     "name": "stdout",
     "output_type": "stream",
     "text": [
      "Measured '0':  851 / 1000  times\n",
      "Measured '1':  149 / 1000  times\n"
     ]
    }
   ],
   "source": [
    "# pick probability of dephasing, along with num_shots\n",
    "prob = 0.3\n",
    "num_shots = 1000\n",
    "\n",
    "# obtain Kraus operators associating with the dephasing channel\n",
    "kraus_ops = kraus_ops_dephasing(prob)\n",
    "\n",
    "# create Program with noisy gates\n",
    "p = Program()\n",
    "p.declare(\"ro\", \"BIT\", 1)\n",
    "p.inst(H(0))\n",
    "p.defgate(\"DummyGate\", random_unitary())\n",
    "p.inst((\"DummyGate\", 0))\n",
    "p.define_noisy_gate(\"DummyGate\", [0], kraus_ops)\n",
    "# measure in Hadamard basis to measure effect of dephasing\n",
    "p.inst(H(0))\n",
    "p.measure(0, \"ro\")\n",
    "p.wrap_in_numshots_loop(shots=1000)\n",
    "\n",
    "# obtain and print out the results\n",
    "results = qvm.run(qvm.compile(p))\n",
    "print (\"Measured '0': \", len([i for i in results if i == [0]]), \"/\", num_shots, \" times\")\n",
    "print (\"Measured '1': \", len([i for i in results if i == [1]]), \"/\", num_shots, \" times\")"
   ]
  }
 ],
 "metadata": {
  "kernelspec": {
   "display_name": "Python 3",
   "language": "python",
   "name": "python3"
  },
  "language_info": {
   "codemirror_mode": {
    "name": "ipython",
    "version": 3
   },
   "file_extension": ".py",
   "mimetype": "text/x-python",
   "name": "python",
   "nbconvert_exporter": "python",
   "pygments_lexer": "ipython3",
   "version": "3.6.8"
  },
  "toc": {
   "nav_menu": {},
   "number_sections": true,
   "sideBar": true,
   "skip_h1_title": false,
   "title_cell": "Table of Contents",
   "title_sidebar": "Contents",
   "toc_cell": false,
   "toc_position": {},
   "toc_section_display": true,
   "toc_window_display": false
  },
  "varInspector": {
   "cols": {
    "lenName": 16,
    "lenType": 16,
    "lenVar": 40
   },
   "kernels_config": {
    "python": {
     "delete_cmd_postfix": "",
     "delete_cmd_prefix": "del ",
     "library": "var_list.py",
     "varRefreshCmd": "print(var_dic_list())"
    },
    "r": {
     "delete_cmd_postfix": ") ",
     "delete_cmd_prefix": "rm(",
     "library": "var_list.r",
     "varRefreshCmd": "cat(var_dic_list()) "
    }
   },
   "types_to_exclude": [
    "module",
    "function",
    "builtin_function_or_method",
    "instance",
    "_Feature"
   ],
   "window_display": false
  }
 },
 "nbformat": 4,
 "nbformat_minor": 2
}
